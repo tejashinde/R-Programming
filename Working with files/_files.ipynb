{
 "cells": [
  {
   "cell_type": "code",
   "execution_count": 1,
   "metadata": {},
   "outputs": [],
   "source": [
    "df <- read.csv('../Data/Airlinewise Monthly International Air Traffic To And From The Indian Territory.csv')"
   ]
  },
  {
   "cell_type": "code",
   "execution_count": 2,
   "metadata": {},
   "outputs": [
    {
     "data": {
      "text/plain": [
       "      YEAR          MONTH      QUARTER           AIRLINE.NAME    CARRIER.TYPE \n",
       " Min.   :2015   FEB    : 264   Q1:792   AEROFLOT       :  27   DOMESTIC: 135  \n",
       " 1st Qu.:2015   JAN    : 264   Q2:504   AEROLOGIC      :  27   FOREIGN :2199  \n",
       " Median :2016   MAR    : 264   Q3:507   AIR ARABIA     :  27                  \n",
       " Mean   :2016   DEC    : 177   Q4:531   AIR ASIA BERHAD:  27                  \n",
       " 3rd Qu.:2016   NOV    : 177            AIR ASTANA     :  27                  \n",
       " Max.   :2017   OCT    : 177            AIR AUSTRAL    :  27                  \n",
       "                (Other):1011            (Other)        :2172                  \n",
       " PASSENGERS.TO.INDIA PASSENGERS.FROM.INDIA FREIGHT.TO.INDIA  \n",
       " Min.   :     0      Min.   :     0        Min.   :    0.00  \n",
       " 1st Qu.:  1488      1st Qu.:  1629        1st Qu.:    0.30  \n",
       " Median :  4960      Median :  5264        Median :   53.95  \n",
       " Mean   : 24477      Mean   : 25453        Mean   :  550.93  \n",
       " 3rd Qu.: 23290      3rd Qu.: 23419        3rd Qu.:  311.21  \n",
       " Max.   :402497      Max.   :400155        Max.   :14916.47  \n",
       " NA's   :1                                                   \n",
       " FREIGHT.FROM.INDIA\n",
       " Min.   :    0.00  \n",
       " 1st Qu.:    8.53  \n",
       " Median :  154.32  \n",
       " Mean   :  865.26  \n",
       " 3rd Qu.:  770.03  \n",
       " Max.   :48640.30  \n",
       "                   "
      ]
     },
     "metadata": {},
     "output_type": "display_data"
    }
   ],
   "source": [
    "summary(df)"
   ]
  },
  {
   "cell_type": "code",
   "execution_count": 3,
   "metadata": {},
   "outputs": [],
   "source": [
    "months <- data.frame(unique(df$MONTH))"
   ]
  },
  {
   "cell_type": "code",
   "execution_count": 4,
   "metadata": {},
   "outputs": [
    {
     "ename": "ERROR",
     "evalue": "Error in sort(df$FREIGHT.FROM.INDIA, df$MONTH): 'decreasing' must be a length-1 logical vector.\nDid you intend to set 'partial'?\n",
     "output_type": "error",
     "traceback": [
      "Error in sort(df$FREIGHT.FROM.INDIA, df$MONTH): 'decreasing' must be a length-1 logical vector.\nDid you intend to set 'partial'?\nTraceback:\n",
      "1. plot(sort(df$FREIGHT.FROM.INDIA, df$MONTH))",
      "2. sort(df$FREIGHT.FROM.INDIA, df$MONTH)",
      "3. stop(\"'decreasing' must be a length-1 logical vector.\\nDid you intend to set 'partial'?\")"
     ]
    }
   ],
   "source": [
    "plot(sort(df$FREIGHT.FROM.INDIA , df$MONTH ))\n",
    "ylabel(\"Months\")"
   ]
  },
  {
   "cell_type": "code",
   "execution_count": 5,
   "metadata": {},
   "outputs": [
    {
     "data": {
      "text/html": [
       "<ol class=list-inline>\n",
       "\t<li>66</li>\n",
       "\t<li>98</li>\n",
       "</ol>\n"
      ],
      "text/latex": [
       "\\begin{enumerate*}\n",
       "\\item 66\n",
       "\\item 98\n",
       "\\end{enumerate*}\n"
      ],
      "text/markdown": [
       "1. 66\n",
       "2. 98\n",
       "\n",
       "\n"
      ],
      "text/plain": [
       "[1] 66 98"
      ]
     },
     "metadata": {},
     "output_type": "display_data"
    }
   ],
   "source": [
    "utf8ToInt(\"Bb\")\n"
   ]
  },
  {
   "cell_type": "code",
   "execution_count": 3,
   "metadata": {},
   "outputs": [
    {
     "data": {
      "text/html": [
       "<table>\n",
       "<thead><tr><th scope=col>LETTERS.1.10.</th><th scope=col>utf8ToInt.paste.LETTERS.0.10...sep.......collapse.......</th></tr></thead>\n",
       "<tbody>\n",
       "\t<tr><td>A </td><td>65</td></tr>\n",
       "\t<tr><td>B </td><td>66</td></tr>\n",
       "\t<tr><td>C </td><td>67</td></tr>\n",
       "\t<tr><td>D </td><td>68</td></tr>\n",
       "\t<tr><td>E </td><td>69</td></tr>\n",
       "\t<tr><td>F </td><td>70</td></tr>\n",
       "\t<tr><td>G </td><td>71</td></tr>\n",
       "\t<tr><td>H </td><td>72</td></tr>\n",
       "\t<tr><td>I </td><td>73</td></tr>\n",
       "\t<tr><td>J </td><td>74</td></tr>\n",
       "</tbody>\n",
       "</table>\n"
      ],
      "text/latex": [
       "\\begin{tabular}{r|ll}\n",
       " LETTERS.1.10. & utf8ToInt.paste.LETTERS.0.10...sep.......collapse.......\\\\\n",
       "\\hline\n",
       "\t A  & 65\\\\\n",
       "\t B  & 66\\\\\n",
       "\t C  & 67\\\\\n",
       "\t D  & 68\\\\\n",
       "\t E  & 69\\\\\n",
       "\t F  & 70\\\\\n",
       "\t G  & 71\\\\\n",
       "\t H  & 72\\\\\n",
       "\t I  & 73\\\\\n",
       "\t J  & 74\\\\\n",
       "\\end{tabular}\n"
      ],
      "text/markdown": [
       "\n",
       "LETTERS.1.10. | utf8ToInt.paste.LETTERS.0.10...sep.......collapse....... | \n",
       "|---|---|---|---|---|---|---|---|---|---|\n",
       "| A  | 65 | \n",
       "| B  | 66 | \n",
       "| C  | 67 | \n",
       "| D  | 68 | \n",
       "| E  | 69 | \n",
       "| F  | 70 | \n",
       "| G  | 71 | \n",
       "| H  | 72 | \n",
       "| I  | 73 | \n",
       "| J  | 74 | \n",
       "\n",
       "\n"
      ],
      "text/plain": [
       "   LETTERS.1.10. utf8ToInt.paste.LETTERS.0.10...sep.......collapse.......\n",
       "1  A             65                                                      \n",
       "2  B             66                                                      \n",
       "3  C             67                                                      \n",
       "4  D             68                                                      \n",
       "5  E             69                                                      \n",
       "6  F             70                                                      \n",
       "7  G             71                                                      \n",
       "8  H             72                                                      \n",
       "9  I             73                                                      \n",
       "10 J             74                                                      "
      ]
     },
     "metadata": {},
     "output_type": "display_data"
    }
   ],
   "source": [
    "data.frame(LETTERS[1:10] , utf8ToInt(paste(LETTERS[0:10],sep=\"\",collapse=\"\")))"
   ]
  },
  {
   "cell_type": "code",
   "execution_count": 4,
   "metadata": {},
   "outputs": [
    {
     "data": {
      "text/html": [],
      "text/latex": [],
      "text/markdown": [],
      "text/plain": [
       "character(0)"
      ]
     },
     "metadata": {},
     "output_type": "display_data"
    }
   ],
   "source": [
    "ls()"
   ]
  },
  {
   "cell_type": "markdown",
   "metadata": {},
   "source": [
    "## Encryption and Decryption"
   ]
  },
  {
   "cell_type": "code",
   "execution_count": 5,
   "metadata": {},
   "outputs": [],
   "source": [
    "message = utf8ToInt(\"Tejas is a boy\")\n",
    "code = 13 #Code should always be a prime number\n",
    "\n",
    "rem = message %% code\n",
    "quotient = message %/% code\n",
    "\n",
    "final_codeVector = quotient * code + rem"
   ]
  },
  {
   "cell_type": "code",
   "execution_count": 6,
   "metadata": {},
   "outputs": [
    {
     "data": {
      "text/html": [
       "'Tejas is a boy'"
      ],
      "text/latex": [
       "'Tejas is a boy'"
      ],
      "text/markdown": [
       "'Tejas is a boy'"
      ],
      "text/plain": [
       "[1] \"Tejas is a boy\""
      ]
     },
     "metadata": {},
     "output_type": "display_data"
    }
   ],
   "source": [
    "intToUtf8(final_codeVector)"
   ]
  },
  {
   "cell_type": "code",
   "execution_count": 7,
   "metadata": {},
   "outputs": [
    {
     "data": {
      "text/html": [
       "'Tejas'"
      ],
      "text/latex": [
       "'Tejas'"
      ],
      "text/markdown": [
       "'Tejas'"
      ],
      "text/plain": [
       "[1] \"Tejas\""
      ]
     },
     "metadata": {},
     "output_type": "display_data"
    }
   ],
   "source": [
    "'Tejas'"
   ]
  },
  {
   "cell_type": "code",
   "execution_count": 48,
   "metadata": {},
   "outputs": [],
   "source": [
    "df = data.frame(Names = c('Radha','Monika','Sawan','Ram','Tejas') , Surnames = c('Rao','Sharma','Doshi','Ranade','Shinde'))"
   ]
  },
  {
   "cell_type": "code",
   "execution_count": 49,
   "metadata": {},
   "outputs": [
    {
     "data": {
      "text/html": [
       "<table>\n",
       "<thead><tr><th scope=col>Names</th><th scope=col>Surnames</th></tr></thead>\n",
       "<tbody>\n",
       "\t<tr><td>Radha </td><td>Rao   </td></tr>\n",
       "\t<tr><td>Monika</td><td>Sharma</td></tr>\n",
       "\t<tr><td>Sawan </td><td>Doshi </td></tr>\n",
       "\t<tr><td>Ram   </td><td>Ranade</td></tr>\n",
       "\t<tr><td>Tejas </td><td>Shinde</td></tr>\n",
       "</tbody>\n",
       "</table>\n"
      ],
      "text/latex": [
       "\\begin{tabular}{r|ll}\n",
       " Names & Surnames\\\\\n",
       "\\hline\n",
       "\t Radha  & Rao   \\\\\n",
       "\t Monika & Sharma\\\\\n",
       "\t Sawan  & Doshi \\\\\n",
       "\t Ram    & Ranade\\\\\n",
       "\t Tejas  & Shinde\\\\\n",
       "\\end{tabular}\n"
      ],
      "text/markdown": [
       "\n",
       "Names | Surnames | \n",
       "|---|---|---|---|---|\n",
       "| Radha  | Rao    | \n",
       "| Monika | Sharma | \n",
       "| Sawan  | Doshi  | \n",
       "| Ram    | Ranade | \n",
       "| Tejas  | Shinde | \n",
       "\n",
       "\n"
      ],
      "text/plain": [
       "  Names  Surnames\n",
       "1 Radha  Rao     \n",
       "2 Monika Sharma  \n",
       "3 Sawan  Doshi   \n",
       "4 Ram    Ranade  \n",
       "5 Tejas  Shinde  "
      ]
     },
     "metadata": {},
     "output_type": "display_data"
    }
   ],
   "source": [
    "df"
   ]
  },
  {
   "cell_type": "code",
   "execution_count": 50,
   "metadata": {},
   "outputs": [],
   "source": [
    "findInitials = function(name , surname)\n",
    "    {\n",
    "        return (paste(substr(name , 1 , 1) , substr(surname , 1 , 1) , sep = \"\" , collapse = \"\"))\n",
    "    }"
   ]
  },
  {
   "cell_type": "code",
   "execution_count": 51,
   "metadata": {},
   "outputs": [],
   "source": [
    "vowelCount = function(name)\n",
    "    {\n",
    "        coll = is.element(unlist(strsplit(tolower(name),'')),c('a','e','i','o','u'))\n",
    "        return (length(coll[coll == TRUE]))\n",
    "    }"
   ]
  },
  {
   "cell_type": "code",
   "execution_count": 52,
   "metadata": {},
   "outputs": [],
   "source": [
    "removeVowel = function (name)\n",
    "    {\n",
    "        return (gsub('a|e|i|o|u','',name))\n",
    "    }"
   ]
  },
  {
   "cell_type": "code",
   "execution_count": 53,
   "metadata": {},
   "outputs": [
    {
     "data": {
      "text/html": [
       "4"
      ],
      "text/latex": [
       "4"
      ],
      "text/markdown": [
       "4"
      ],
      "text/plain": [
       "[1] 4"
      ]
     },
     "metadata": {},
     "output_type": "display_data"
    }
   ],
   "source": [
    "match('a' , unlist(strsplit('Tejaas' , '')))"
   ]
  },
  {
   "cell_type": "code",
   "execution_count": 54,
   "metadata": {
    "scrolled": true
   },
   "outputs": [
    {
     "data": {
      "text/html": [
       "4"
      ],
      "text/latex": [
       "4"
      ],
      "text/markdown": [
       "4"
      ],
      "text/plain": [
       "[1] 4"
      ]
     },
     "metadata": {},
     "output_type": "display_data"
    }
   ],
   "source": [
    "vowelCount('Tejaaas')"
   ]
  },
  {
   "cell_type": "code",
   "execution_count": 55,
   "metadata": {},
   "outputs": [
    {
     "data": {
      "text/html": [
       "'TS'"
      ],
      "text/latex": [
       "'TS'"
      ],
      "text/markdown": [
       "'TS'"
      ],
      "text/plain": [
       "[1] \"TS\""
      ]
     },
     "metadata": {},
     "output_type": "display_data"
    }
   ],
   "source": [
    "findInitials('Tejas','Shinde')"
   ]
  },
  {
   "cell_type": "code",
   "execution_count": 56,
   "metadata": {},
   "outputs": [],
   "source": [
    "df$removeVowelsFN = apply(df[1] , removeVowel , MARGIN = 1)"
   ]
  },
  {
   "cell_type": "code",
   "execution_count": 57,
   "metadata": {},
   "outputs": [],
   "source": [
    "df$VowelCount = apply(df[1] , vowelCount , MARGIN = 1)"
   ]
  },
  {
   "cell_type": "code",
   "execution_count": 58,
   "metadata": {},
   "outputs": [],
   "source": [
    "df$Initials = mapply(findInitials , df$Names , df$Surnames)"
   ]
  },
  {
   "cell_type": "code",
   "execution_count": 59,
   "metadata": {},
   "outputs": [],
   "source": [
    "df$LengthInSurname = apply(df[2] , nchar , MARGIN = 1)"
   ]
  },
  {
   "cell_type": "code",
   "execution_count": 60,
   "metadata": {},
   "outputs": [
    {
     "data": {
      "text/html": [
       "<table>\n",
       "<thead><tr><th scope=col>Names</th><th scope=col>Surnames</th><th scope=col>removeVowelsFN</th><th scope=col>VowelCount</th><th scope=col>Initials</th><th scope=col>LengthInSurname</th></tr></thead>\n",
       "<tbody>\n",
       "\t<tr><td>Radha </td><td>Rao   </td><td>Rdh   </td><td>2     </td><td>RR    </td><td>3     </td></tr>\n",
       "\t<tr><td>Monika</td><td>Sharma</td><td>Mnk   </td><td>3     </td><td>MS    </td><td>6     </td></tr>\n",
       "\t<tr><td>Sawan </td><td>Doshi </td><td>Swn   </td><td>2     </td><td>SD    </td><td>5     </td></tr>\n",
       "\t<tr><td>Ram   </td><td>Ranade</td><td>Rm    </td><td>1     </td><td>RR    </td><td>6     </td></tr>\n",
       "\t<tr><td>Tejas </td><td>Shinde</td><td>Tjs   </td><td>2     </td><td>TS    </td><td>6     </td></tr>\n",
       "</tbody>\n",
       "</table>\n"
      ],
      "text/latex": [
       "\\begin{tabular}{r|llllll}\n",
       " Names & Surnames & removeVowelsFN & VowelCount & Initials & LengthInSurname\\\\\n",
       "\\hline\n",
       "\t Radha  & Rao    & Rdh    & 2      & RR     & 3     \\\\\n",
       "\t Monika & Sharma & Mnk    & 3      & MS     & 6     \\\\\n",
       "\t Sawan  & Doshi  & Swn    & 2      & SD     & 5     \\\\\n",
       "\t Ram    & Ranade & Rm     & 1      & RR     & 6     \\\\\n",
       "\t Tejas  & Shinde & Tjs    & 2      & TS     & 6     \\\\\n",
       "\\end{tabular}\n"
      ],
      "text/markdown": [
       "\n",
       "Names | Surnames | removeVowelsFN | VowelCount | Initials | LengthInSurname | \n",
       "|---|---|---|---|---|\n",
       "| Radha  | Rao    | Rdh    | 2      | RR     | 3      | \n",
       "| Monika | Sharma | Mnk    | 3      | MS     | 6      | \n",
       "| Sawan  | Doshi  | Swn    | 2      | SD     | 5      | \n",
       "| Ram    | Ranade | Rm     | 1      | RR     | 6      | \n",
       "| Tejas  | Shinde | Tjs    | 2      | TS     | 6      | \n",
       "\n",
       "\n"
      ],
      "text/plain": [
       "  Names  Surnames removeVowelsFN VowelCount Initials LengthInSurname\n",
       "1 Radha  Rao      Rdh            2          RR       3              \n",
       "2 Monika Sharma   Mnk            3          MS       6              \n",
       "3 Sawan  Doshi    Swn            2          SD       5              \n",
       "4 Ram    Ranade   Rm             1          RR       6              \n",
       "5 Tejas  Shinde   Tjs            2          TS       6              "
      ]
     },
     "metadata": {},
     "output_type": "display_data"
    }
   ],
   "source": [
    "df"
   ]
  },
  {
   "cell_type": "code",
   "execution_count": 63,
   "metadata": {
    "scrolled": true
   },
   "outputs": [
    {
     "name": "stderr",
     "output_type": "stream",
     "text": [
      "Warning message in `[<-.factor`(`*tmp*`, ri, value = 10L):\n",
      "\"invalid factor level, NA generated\"Warning message in `[<-.factor`(`*tmp*`, ri, value = 11L):\n",
      "\"invalid factor level, NA generated\""
     ]
    },
    {
     "data": {
      "text/html": [
       "<table>\n",
       "<thead><tr><th scope=col>Names</th><th scope=col>Surnames</th><th scope=col>removeVowelsFN</th><th scope=col>VowelCount</th><th scope=col>Initials</th><th scope=col>LengthInSurname</th></tr></thead>\n",
       "<tbody>\n",
       "\t<tr><td>Radha </td><td>Rao   </td><td>Rdh   </td><td>2     </td><td>RR    </td><td>3     </td></tr>\n",
       "\t<tr><td>Monika</td><td>Sharma</td><td>Mnk   </td><td>3     </td><td>MS    </td><td>6     </td></tr>\n",
       "\t<tr><td>Sawan </td><td>Doshi </td><td>Swn   </td><td>2     </td><td>SD    </td><td>5     </td></tr>\n",
       "\t<tr><td>Ram   </td><td>Ranade</td><td>Rm    </td><td>1     </td><td>RR    </td><td>6     </td></tr>\n",
       "\t<tr><td>Tejas </td><td>Shinde</td><td>Tjs   </td><td>2     </td><td>TS    </td><td>6     </td></tr>\n",
       "\t<tr><td>NA    </td><td>NA    </td><td>0     </td><td>0     </td><td>0     </td><td>0     </td></tr>\n",
       "</tbody>\n",
       "</table>\n"
      ],
      "text/latex": [
       "\\begin{tabular}{r|llllll}\n",
       " Names & Surnames & removeVowelsFN & VowelCount & Initials & LengthInSurname\\\\\n",
       "\\hline\n",
       "\t Radha  & Rao    & Rdh    & 2      & RR     & 3     \\\\\n",
       "\t Monika & Sharma & Mnk    & 3      & MS     & 6     \\\\\n",
       "\t Sawan  & Doshi  & Swn    & 2      & SD     & 5     \\\\\n",
       "\t Ram    & Ranade & Rm     & 1      & RR     & 6     \\\\\n",
       "\t Tejas  & Shinde & Tjs    & 2      & TS     & 6     \\\\\n",
       "\t NA     & NA     & 0      & 0      & 0      & 0     \\\\\n",
       "\\end{tabular}\n"
      ],
      "text/markdown": [
       "\n",
       "Names | Surnames | removeVowelsFN | VowelCount | Initials | LengthInSurname | \n",
       "|---|---|---|---|---|---|\n",
       "| Radha  | Rao    | Rdh    | 2      | RR     | 3      | \n",
       "| Monika | Sharma | Mnk    | 3      | MS     | 6      | \n",
       "| Sawan  | Doshi  | Swn    | 2      | SD     | 5      | \n",
       "| Ram    | Ranade | Rm     | 1      | RR     | 6      | \n",
       "| Tejas  | Shinde | Tjs    | 2      | TS     | 6      | \n",
       "| NA     | NA     | 0      | 0      | 0      | 0      | \n",
       "\n",
       "\n"
      ],
      "text/plain": [
       "  Names  Surnames removeVowelsFN VowelCount Initials LengthInSurname\n",
       "1 Radha  Rao      Rdh            2          RR       3              \n",
       "2 Monika Sharma   Mnk            3          MS       6              \n",
       "3 Sawan  Doshi    Swn            2          SD       5              \n",
       "4 Ram    Ranade   Rm             1          RR       6              \n",
       "5 Tejas  Shinde   Tjs            2          TS       6              \n",
       "6 NA     NA       0              0          0        0              "
      ]
     },
     "metadata": {},
     "output_type": "display_data"
    }
   ],
   "source": [
    "rbind(df , c(apply(df , vowelCount , MARGIN = 2)))\n",
    "dataframe$sqrt = apply(dataframe[1] , sqrt , MARGIN = 1)"
   ]
  },
  {
   "cell_type": "code",
   "execution_count": 83,
   "metadata": {
    "scrolled": true
   },
   "outputs": [],
   "source": [
    "dataframe = data.frame(Numbers = 1:10)"
   ]
  },
  {
   "cell_type": "code",
   "execution_count": 84,
   "metadata": {},
   "outputs": [],
   "source": [
    "dataframe$sqrt = apply(dataframe[1] , sqrt , MARGIN = 2 )\n",
    "dataframe$sqre = apply(dataframe[1] ,  function(n){return (n^2)}, MARGIN = 2 )\n",
    "dataframe = rbind(dataframe , c(sum(dataframe$Numbers) , sum(dataframe$sqrt) , sum(dataframe$sqre)))\n",
    "dataframe$mean = apply(dataframe , mean , MARGIN = 1)"
   ]
  },
  {
   "cell_type": "code",
   "execution_count": 85,
   "metadata": {},
   "outputs": [
    {
     "data": {
      "text/html": [
       "<table>\n",
       "<thead><tr><th scope=col>Numbers</th><th scope=col>sqrt</th><th scope=col>sqre</th><th scope=col>mean</th></tr></thead>\n",
       "<tbody>\n",
       "\t<tr><td> 1        </td><td> 1.000000 </td><td>  1       </td><td>  1.000000</td></tr>\n",
       "\t<tr><td> 2        </td><td> 1.414214 </td><td>  4       </td><td>  2.471405</td></tr>\n",
       "\t<tr><td> 3        </td><td> 1.732051 </td><td>  9       </td><td>  4.577350</td></tr>\n",
       "\t<tr><td> 4        </td><td> 2.000000 </td><td> 16       </td><td>  7.333333</td></tr>\n",
       "\t<tr><td> 5        </td><td> 2.236068 </td><td> 25       </td><td> 10.745356</td></tr>\n",
       "\t<tr><td> 6        </td><td> 2.449490 </td><td> 36       </td><td> 14.816497</td></tr>\n",
       "\t<tr><td> 7        </td><td> 2.645751 </td><td> 49       </td><td> 19.548584</td></tr>\n",
       "\t<tr><td> 8        </td><td> 2.828427 </td><td> 64       </td><td> 24.942809</td></tr>\n",
       "\t<tr><td> 9        </td><td> 3.000000 </td><td> 81       </td><td> 31.000000</td></tr>\n",
       "\t<tr><td>10        </td><td> 3.162278 </td><td>100       </td><td> 37.720759</td></tr>\n",
       "\t<tr><td>55        </td><td>22.468278 </td><td>385       </td><td>154.156093</td></tr>\n",
       "</tbody>\n",
       "</table>\n"
      ],
      "text/latex": [
       "\\begin{tabular}{r|llll}\n",
       " Numbers & sqrt & sqre & mean\\\\\n",
       "\\hline\n",
       "\t  1         &  1.000000  &   1        &   1.000000\\\\\n",
       "\t  2         &  1.414214  &   4        &   2.471405\\\\\n",
       "\t  3         &  1.732051  &   9        &   4.577350\\\\\n",
       "\t  4         &  2.000000  &  16        &   7.333333\\\\\n",
       "\t  5         &  2.236068  &  25        &  10.745356\\\\\n",
       "\t  6         &  2.449490  &  36        &  14.816497\\\\\n",
       "\t  7         &  2.645751  &  49        &  19.548584\\\\\n",
       "\t  8         &  2.828427  &  64        &  24.942809\\\\\n",
       "\t  9         &  3.000000  &  81        &  31.000000\\\\\n",
       "\t 10         &  3.162278  & 100        &  37.720759\\\\\n",
       "\t 55         & 22.468278  & 385        & 154.156093\\\\\n",
       "\\end{tabular}\n"
      ],
      "text/markdown": [
       "\n",
       "Numbers | sqrt | sqre | mean | \n",
       "|---|---|---|---|---|---|---|---|---|---|---|\n",
       "|  1         |  1.000000  |   1        |   1.000000 | \n",
       "|  2         |  1.414214  |   4        |   2.471405 | \n",
       "|  3         |  1.732051  |   9        |   4.577350 | \n",
       "|  4         |  2.000000  |  16        |   7.333333 | \n",
       "|  5         |  2.236068  |  25        |  10.745356 | \n",
       "|  6         |  2.449490  |  36        |  14.816497 | \n",
       "|  7         |  2.645751  |  49        |  19.548584 | \n",
       "|  8         |  2.828427  |  64        |  24.942809 | \n",
       "|  9         |  3.000000  |  81        |  31.000000 | \n",
       "| 10         |  3.162278  | 100        |  37.720759 | \n",
       "| 55         | 22.468278  | 385        | 154.156093 | \n",
       "\n",
       "\n"
      ],
      "text/plain": [
       "   Numbers sqrt      sqre mean      \n",
       "1   1       1.000000   1    1.000000\n",
       "2   2       1.414214   4    2.471405\n",
       "3   3       1.732051   9    4.577350\n",
       "4   4       2.000000  16    7.333333\n",
       "5   5       2.236068  25   10.745356\n",
       "6   6       2.449490  36   14.816497\n",
       "7   7       2.645751  49   19.548584\n",
       "8   8       2.828427  64   24.942809\n",
       "9   9       3.000000  81   31.000000\n",
       "10 10       3.162278 100   37.720759\n",
       "11 55      22.468278 385  154.156093"
      ]
     },
     "metadata": {},
     "output_type": "display_data"
    }
   ],
   "source": [
    "dataframe"
   ]
  },
  {
   "cell_type": "code",
   "execution_count": 86,
   "metadata": {},
   "outputs": [],
   "source": [
    "rownames(dataframe)[length(rownames(dataframe))] = 'Total'"
   ]
  },
  {
   "cell_type": "code",
   "execution_count": 87,
   "metadata": {},
   "outputs": [
    {
     "data": {
      "text/html": [
       "<table>\n",
       "<thead><tr><th></th><th scope=col>Numbers</th><th scope=col>sqrt</th><th scope=col>sqre</th><th scope=col>mean</th></tr></thead>\n",
       "<tbody>\n",
       "\t<tr><th scope=row>1</th><td> 1        </td><td> 1.000000 </td><td>  1       </td><td>  1.000000</td></tr>\n",
       "\t<tr><th scope=row>2</th><td> 2        </td><td> 1.414214 </td><td>  4       </td><td>  2.471405</td></tr>\n",
       "\t<tr><th scope=row>3</th><td> 3        </td><td> 1.732051 </td><td>  9       </td><td>  4.577350</td></tr>\n",
       "\t<tr><th scope=row>4</th><td> 4        </td><td> 2.000000 </td><td> 16       </td><td>  7.333333</td></tr>\n",
       "\t<tr><th scope=row>5</th><td> 5        </td><td> 2.236068 </td><td> 25       </td><td> 10.745356</td></tr>\n",
       "\t<tr><th scope=row>6</th><td> 6        </td><td> 2.449490 </td><td> 36       </td><td> 14.816497</td></tr>\n",
       "\t<tr><th scope=row>7</th><td> 7        </td><td> 2.645751 </td><td> 49       </td><td> 19.548584</td></tr>\n",
       "\t<tr><th scope=row>8</th><td> 8        </td><td> 2.828427 </td><td> 64       </td><td> 24.942809</td></tr>\n",
       "\t<tr><th scope=row>9</th><td> 9        </td><td> 3.000000 </td><td> 81       </td><td> 31.000000</td></tr>\n",
       "\t<tr><th scope=row>10</th><td>10        </td><td> 3.162278 </td><td>100       </td><td> 37.720759</td></tr>\n",
       "\t<tr><th scope=row>Total</th><td>55        </td><td>22.468278 </td><td>385       </td><td>154.156093</td></tr>\n",
       "</tbody>\n",
       "</table>\n"
      ],
      "text/latex": [
       "\\begin{tabular}{r|llll}\n",
       "  & Numbers & sqrt & sqre & mean\\\\\n",
       "\\hline\n",
       "\t1 &  1         &  1.000000  &   1        &   1.000000\\\\\n",
       "\t2 &  2         &  1.414214  &   4        &   2.471405\\\\\n",
       "\t3 &  3         &  1.732051  &   9        &   4.577350\\\\\n",
       "\t4 &  4         &  2.000000  &  16        &   7.333333\\\\\n",
       "\t5 &  5         &  2.236068  &  25        &  10.745356\\\\\n",
       "\t6 &  6         &  2.449490  &  36        &  14.816497\\\\\n",
       "\t7 &  7         &  2.645751  &  49        &  19.548584\\\\\n",
       "\t8 &  8         &  2.828427  &  64        &  24.942809\\\\\n",
       "\t9 &  9         &  3.000000  &  81        &  31.000000\\\\\n",
       "\t10 & 10         &  3.162278  & 100        &  37.720759\\\\\n",
       "\tTotal & 55         & 22.468278  & 385        & 154.156093\\\\\n",
       "\\end{tabular}\n"
      ],
      "text/markdown": [
       "\n",
       "| <!--/--> | Numbers | sqrt | sqre | mean | \n",
       "|---|---|---|---|---|---|---|---|---|---|---|\n",
       "| 1 |  1         |  1.000000  |   1        |   1.000000 | \n",
       "| 2 |  2         |  1.414214  |   4        |   2.471405 | \n",
       "| 3 |  3         |  1.732051  |   9        |   4.577350 | \n",
       "| 4 |  4         |  2.000000  |  16        |   7.333333 | \n",
       "| 5 |  5         |  2.236068  |  25        |  10.745356 | \n",
       "| 6 |  6         |  2.449490  |  36        |  14.816497 | \n",
       "| 7 |  7         |  2.645751  |  49        |  19.548584 | \n",
       "| 8 |  8         |  2.828427  |  64        |  24.942809 | \n",
       "| 9 |  9         |  3.000000  |  81        |  31.000000 | \n",
       "| 10 | 10         |  3.162278  | 100        |  37.720759 | \n",
       "| Total | 55         | 22.468278  | 385        | 154.156093 | \n",
       "\n",
       "\n"
      ],
      "text/plain": [
       "      Numbers sqrt      sqre mean      \n",
       "1      1       1.000000   1    1.000000\n",
       "2      2       1.414214   4    2.471405\n",
       "3      3       1.732051   9    4.577350\n",
       "4      4       2.000000  16    7.333333\n",
       "5      5       2.236068  25   10.745356\n",
       "6      6       2.449490  36   14.816497\n",
       "7      7       2.645751  49   19.548584\n",
       "8      8       2.828427  64   24.942809\n",
       "9      9       3.000000  81   31.000000\n",
       "10    10       3.162278 100   37.720759\n",
       "Total 55      22.468278 385  154.156093"
      ]
     },
     "metadata": {},
     "output_type": "display_data"
    }
   ],
   "source": [
    "dataframe"
   ]
  },
  {
   "cell_type": "code",
   "execution_count": 6,
   "metadata": {},
   "outputs": [
    {
     "data": {
      "text/html": [
       "2"
      ],
      "text/latex": [
       "2"
      ],
      "text/markdown": [
       "2"
      ],
      "text/plain": [
       "[1] 2"
      ]
     },
     "metadata": {},
     "output_type": "display_data"
    }
   ],
   "source": [
    "2 %% 5"
   ]
  },
  {
   "cell_type": "code",
   "execution_count": 7,
   "metadata": {},
   "outputs": [
    {
     "data": {
      "text/html": [
       "0"
      ],
      "text/latex": [
       "0"
      ],
      "text/markdown": [
       "0"
      ],
      "text/plain": [
       "[1] 0"
      ]
     },
     "metadata": {},
     "output_type": "display_data"
    }
   ],
   "source": [
    "2 %/% 5"
   ]
  },
  {
   "cell_type": "code",
   "execution_count": 8,
   "metadata": {},
   "outputs": [
    {
     "data": {
      "text/html": [
       "'Tej'"
      ],
      "text/latex": [
       "'Tej'"
      ],
      "text/markdown": [
       "'Tej'"
      ],
      "text/plain": [
       "[1] \"Tej\""
      ]
     },
     "metadata": {},
     "output_type": "display_data"
    }
   ],
   "source": [
    "substr('Tejas' , 1 , 3)"
   ]
  },
  {
   "cell_type": "code",
   "execution_count": 9,
   "metadata": {},
   "outputs": [
    {
     "data": {
      "text/html": [
       "<ol class=list-inline>\n",
       "\t<li>1</li>\n",
       "\t<li>3</li>\n",
       "\t<li>5</li>\n",
       "\t<li>7</li>\n",
       "\t<li>9</li>\n",
       "</ol>\n"
      ],
      "text/latex": [
       "\\begin{enumerate*}\n",
       "\\item 1\n",
       "\\item 3\n",
       "\\item 5\n",
       "\\item 7\n",
       "\\item 9\n",
       "\\end{enumerate*}\n"
      ],
      "text/markdown": [
       "1. 1\n",
       "2. 3\n",
       "3. 5\n",
       "4. 7\n",
       "5. 9\n",
       "\n",
       "\n"
      ],
      "text/plain": [
       "[1] 1 3 5 7 9"
      ]
     },
     "metadata": {},
     "output_type": "display_data"
    }
   ],
   "source": [
    "seq(1,10,2)"
   ]
  },
  {
   "cell_type": "code",
   "execution_count": 12,
   "metadata": {},
   "outputs": [
    {
     "data": {
      "text/html": [
       "<table>\n",
       "<tbody>\n",
       "\t<tr><td>1</td><td>2</td><td>3</td></tr>\n",
       "\t<tr><td>4</td><td>5</td><td>6</td></tr>\n",
       "\t<tr><td>7</td><td>8</td><td>9</td></tr>\n",
       "</tbody>\n",
       "</table>\n"
      ],
      "text/latex": [
       "\\begin{tabular}{lll}\n",
       "\t 1 & 2 & 3\\\\\n",
       "\t 4 & 5 & 6\\\\\n",
       "\t 7 & 8 & 9\\\\\n",
       "\\end{tabular}\n"
      ],
      "text/markdown": [
       "\n",
       "| 1 | 2 | 3 | \n",
       "| 4 | 5 | 6 | \n",
       "| 7 | 8 | 9 | \n",
       "\n",
       "\n"
      ],
      "text/plain": [
       "     [,1] [,2] [,3]\n",
       "[1,] 1    2    3   \n",
       "[2,] 4    5    6   \n",
       "[3,] 7    8    9   "
      ]
     },
     "metadata": {},
     "output_type": "display_data"
    }
   ],
   "source": [
    "matrix(c(1,2,3,4,5,6,7,8,9) , ncol = 3 , byrow = T)"
   ]
  },
  {
   "cell_type": "code",
   "execution_count": 13,
   "metadata": {},
   "outputs": [
    {
     "data": {
      "text/html": [
       "<ol class=list-inline>\n",
       "\t<li>2</li>\n",
       "\t<li>2</li>\n",
       "\t<li>2</li>\n",
       "\t<li>2</li>\n",
       "\t<li>2</li>\n",
       "</ol>\n"
      ],
      "text/latex": [
       "\\begin{enumerate*}\n",
       "\\item 2\n",
       "\\item 2\n",
       "\\item 2\n",
       "\\item 2\n",
       "\\item 2\n",
       "\\end{enumerate*}\n"
      ],
      "text/markdown": [
       "1. 2\n",
       "2. 2\n",
       "3. 2\n",
       "4. 2\n",
       "5. 2\n",
       "\n",
       "\n"
      ],
      "text/plain": [
       "[1] 2 2 2 2 2"
      ]
     },
     "metadata": {},
     "output_type": "display_data"
    }
   ],
   "source": [
    "rep(2,5)"
   ]
  },
  {
   "cell_type": "code",
   "execution_count": 35,
   "metadata": {},
   "outputs": [
    {
     "ename": "ERROR",
     "evalue": "Error in parse(text = x, srcfile = src): <text>:1:24: unexpected ';'\n1: mtcars[mtcars$mpg <= 20;\n                           ^\n",
     "output_type": "error",
     "traceback": [
      "Error in parse(text = x, srcfile = src): <text>:1:24: unexpected ';'\n1: mtcars[mtcars$mpg <= 20;\n                           ^\nTraceback:\n"
     ]
    }
   ],
   "source": [
    "mtcars[mtcars$mpg <= 20]"
   ]
  },
  {
   "cell_type": "code",
   "execution_count": 24,
   "metadata": {},
   "outputs": [],
   "source": [
    "df = mtcars['cyl'] > 6"
   ]
  },
  {
   "cell_type": "code",
   "execution_count": 32,
   "metadata": {},
   "outputs": [
    {
     "data": {
      "text/html": [
       "&lt;NA&gt;"
      ],
      "text/latex": [
       "<NA>"
      ],
      "text/markdown": [
       "&lt;NA&gt;"
      ],
      "text/plain": [
       "[1] NA"
      ]
     },
     "metadata": {},
     "output_type": "display_data"
    }
   ],
   "source": [
    "ifelse(df['cyl'] , 'Works' , 'Not')"
   ]
  },
  {
   "cell_type": "code",
   "execution_count": 44,
   "metadata": {},
   "outputs": [
    {
     "data": {
      "text/html": [
       "<table>\n",
       "<thead><tr><th></th><th scope=col>mpg</th><th scope=col>cyl</th><th scope=col>disp</th><th scope=col>hp</th><th scope=col>drat</th><th scope=col>wt</th><th scope=col>qsec</th><th scope=col>vs</th><th scope=col>am</th></tr></thead>\n",
       "<tbody>\n",
       "\t<tr><th scope=row>Hornet Sportabout</th><td>18.7 </td><td>8    </td><td>360.0</td><td>175  </td><td>3.15 </td><td>3.440</td><td>17.02</td><td>0    </td><td>0    </td></tr>\n",
       "\t<tr><th scope=row>Valiant</th><td>18.1 </td><td>6    </td><td>225.0</td><td>105  </td><td>2.76 </td><td>3.460</td><td>20.22</td><td>1    </td><td>0    </td></tr>\n",
       "\t<tr><th scope=row>Duster 360</th><td>14.3 </td><td>8    </td><td>360.0</td><td>245  </td><td>3.21 </td><td>3.570</td><td>15.84</td><td>0    </td><td>0    </td></tr>\n",
       "\t<tr><th scope=row>Merc 280</th><td>19.2 </td><td>6    </td><td>167.6</td><td>123  </td><td>3.92 </td><td>3.440</td><td>18.30</td><td>1    </td><td>0    </td></tr>\n",
       "\t<tr><th scope=row>Merc 280C</th><td>17.8 </td><td>6    </td><td>167.6</td><td>123  </td><td>3.92 </td><td>3.440</td><td>18.90</td><td>1    </td><td>0    </td></tr>\n",
       "\t<tr><th scope=row>Merc 450SE</th><td>16.4 </td><td>8    </td><td>275.8</td><td>180  </td><td>3.07 </td><td>4.070</td><td>17.40</td><td>0    </td><td>0    </td></tr>\n",
       "\t<tr><th scope=row>Merc 450SL</th><td>17.3 </td><td>8    </td><td>275.8</td><td>180  </td><td>3.07 </td><td>3.730</td><td>17.60</td><td>0    </td><td>0    </td></tr>\n",
       "\t<tr><th scope=row>Merc 450SLC</th><td>15.2 </td><td>8    </td><td>275.8</td><td>180  </td><td>3.07 </td><td>3.780</td><td>18.00</td><td>0    </td><td>0    </td></tr>\n",
       "\t<tr><th scope=row>Cadillac Fleetwood</th><td>10.4 </td><td>8    </td><td>472.0</td><td>205  </td><td>2.93 </td><td>5.250</td><td>17.98</td><td>0    </td><td>0    </td></tr>\n",
       "\t<tr><th scope=row>Lincoln Continental</th><td>10.4 </td><td>8    </td><td>460.0</td><td>215  </td><td>3.00 </td><td>5.424</td><td>17.82</td><td>0    </td><td>0    </td></tr>\n",
       "\t<tr><th scope=row>Chrysler Imperial</th><td>14.7 </td><td>8    </td><td>440.0</td><td>230  </td><td>3.23 </td><td>5.345</td><td>17.42</td><td>0    </td><td>0    </td></tr>\n",
       "\t<tr><th scope=row>Dodge Challenger</th><td>15.5 </td><td>8    </td><td>318.0</td><td>150  </td><td>2.76 </td><td>3.520</td><td>16.87</td><td>0    </td><td>0    </td></tr>\n",
       "\t<tr><th scope=row>AMC Javelin</th><td>15.2 </td><td>8    </td><td>304.0</td><td>150  </td><td>3.15 </td><td>3.435</td><td>17.30</td><td>0    </td><td>0    </td></tr>\n",
       "\t<tr><th scope=row>Camaro Z28</th><td>13.3 </td><td>8    </td><td>350.0</td><td>245  </td><td>3.73 </td><td>3.840</td><td>15.41</td><td>0    </td><td>0    </td></tr>\n",
       "\t<tr><th scope=row>Pontiac Firebird</th><td>19.2 </td><td>8    </td><td>400.0</td><td>175  </td><td>3.08 </td><td>3.845</td><td>17.05</td><td>0    </td><td>0    </td></tr>\n",
       "\t<tr><th scope=row>Ford Pantera L</th><td>15.8 </td><td>8    </td><td>351.0</td><td>264  </td><td>4.22 </td><td>3.170</td><td>14.50</td><td>0    </td><td>1    </td></tr>\n",
       "\t<tr><th scope=row>Ferrari Dino</th><td>19.7 </td><td>6    </td><td>145.0</td><td>175  </td><td>3.62 </td><td>2.770</td><td>15.50</td><td>0    </td><td>1    </td></tr>\n",
       "\t<tr><th scope=row>Maserati Bora</th><td>15.0 </td><td>8    </td><td>301.0</td><td>335  </td><td>3.54 </td><td>3.570</td><td>14.60</td><td>0    </td><td>1    </td></tr>\n",
       "</tbody>\n",
       "</table>\n"
      ],
      "text/latex": [
       "\\begin{tabular}{r|lllllllll}\n",
       "  & mpg & cyl & disp & hp & drat & wt & qsec & vs & am\\\\\n",
       "\\hline\n",
       "\tHornet Sportabout & 18.7  & 8     & 360.0 & 175   & 3.15  & 3.440 & 17.02 & 0     & 0    \\\\\n",
       "\tValiant & 18.1  & 6     & 225.0 & 105   & 2.76  & 3.460 & 20.22 & 1     & 0    \\\\\n",
       "\tDuster 360 & 14.3  & 8     & 360.0 & 245   & 3.21  & 3.570 & 15.84 & 0     & 0    \\\\\n",
       "\tMerc 280 & 19.2  & 6     & 167.6 & 123   & 3.92  & 3.440 & 18.30 & 1     & 0    \\\\\n",
       "\tMerc 280C & 17.8  & 6     & 167.6 & 123   & 3.92  & 3.440 & 18.90 & 1     & 0    \\\\\n",
       "\tMerc 450SE & 16.4  & 8     & 275.8 & 180   & 3.07  & 4.070 & 17.40 & 0     & 0    \\\\\n",
       "\tMerc 450SL & 17.3  & 8     & 275.8 & 180   & 3.07  & 3.730 & 17.60 & 0     & 0    \\\\\n",
       "\tMerc 450SLC & 15.2  & 8     & 275.8 & 180   & 3.07  & 3.780 & 18.00 & 0     & 0    \\\\\n",
       "\tCadillac Fleetwood & 10.4  & 8     & 472.0 & 205   & 2.93  & 5.250 & 17.98 & 0     & 0    \\\\\n",
       "\tLincoln Continental & 10.4  & 8     & 460.0 & 215   & 3.00  & 5.424 & 17.82 & 0     & 0    \\\\\n",
       "\tChrysler Imperial & 14.7  & 8     & 440.0 & 230   & 3.23  & 5.345 & 17.42 & 0     & 0    \\\\\n",
       "\tDodge Challenger & 15.5  & 8     & 318.0 & 150   & 2.76  & 3.520 & 16.87 & 0     & 0    \\\\\n",
       "\tAMC Javelin & 15.2  & 8     & 304.0 & 150   & 3.15  & 3.435 & 17.30 & 0     & 0    \\\\\n",
       "\tCamaro Z28 & 13.3  & 8     & 350.0 & 245   & 3.73  & 3.840 & 15.41 & 0     & 0    \\\\\n",
       "\tPontiac Firebird & 19.2  & 8     & 400.0 & 175   & 3.08  & 3.845 & 17.05 & 0     & 0    \\\\\n",
       "\tFord Pantera L & 15.8  & 8     & 351.0 & 264   & 4.22  & 3.170 & 14.50 & 0     & 1    \\\\\n",
       "\tFerrari Dino & 19.7  & 6     & 145.0 & 175   & 3.62  & 2.770 & 15.50 & 0     & 1    \\\\\n",
       "\tMaserati Bora & 15.0  & 8     & 301.0 & 335   & 3.54  & 3.570 & 14.60 & 0     & 1    \\\\\n",
       "\\end{tabular}\n"
      ],
      "text/markdown": [
       "\n",
       "| <!--/--> | mpg | cyl | disp | hp | drat | wt | qsec | vs | am | \n",
       "|---|---|---|---|---|---|---|---|---|---|---|---|---|---|---|---|---|---|\n",
       "| Hornet Sportabout | 18.7  | 8     | 360.0 | 175   | 3.15  | 3.440 | 17.02 | 0     | 0     | \n",
       "| Valiant | 18.1  | 6     | 225.0 | 105   | 2.76  | 3.460 | 20.22 | 1     | 0     | \n",
       "| Duster 360 | 14.3  | 8     | 360.0 | 245   | 3.21  | 3.570 | 15.84 | 0     | 0     | \n",
       "| Merc 280 | 19.2  | 6     | 167.6 | 123   | 3.92  | 3.440 | 18.30 | 1     | 0     | \n",
       "| Merc 280C | 17.8  | 6     | 167.6 | 123   | 3.92  | 3.440 | 18.90 | 1     | 0     | \n",
       "| Merc 450SE | 16.4  | 8     | 275.8 | 180   | 3.07  | 4.070 | 17.40 | 0     | 0     | \n",
       "| Merc 450SL | 17.3  | 8     | 275.8 | 180   | 3.07  | 3.730 | 17.60 | 0     | 0     | \n",
       "| Merc 450SLC | 15.2  | 8     | 275.8 | 180   | 3.07  | 3.780 | 18.00 | 0     | 0     | \n",
       "| Cadillac Fleetwood | 10.4  | 8     | 472.0 | 205   | 2.93  | 5.250 | 17.98 | 0     | 0     | \n",
       "| Lincoln Continental | 10.4  | 8     | 460.0 | 215   | 3.00  | 5.424 | 17.82 | 0     | 0     | \n",
       "| Chrysler Imperial | 14.7  | 8     | 440.0 | 230   | 3.23  | 5.345 | 17.42 | 0     | 0     | \n",
       "| Dodge Challenger | 15.5  | 8     | 318.0 | 150   | 2.76  | 3.520 | 16.87 | 0     | 0     | \n",
       "| AMC Javelin | 15.2  | 8     | 304.0 | 150   | 3.15  | 3.435 | 17.30 | 0     | 0     | \n",
       "| Camaro Z28 | 13.3  | 8     | 350.0 | 245   | 3.73  | 3.840 | 15.41 | 0     | 0     | \n",
       "| Pontiac Firebird | 19.2  | 8     | 400.0 | 175   | 3.08  | 3.845 | 17.05 | 0     | 0     | \n",
       "| Ford Pantera L | 15.8  | 8     | 351.0 | 264   | 4.22  | 3.170 | 14.50 | 0     | 1     | \n",
       "| Ferrari Dino | 19.7  | 6     | 145.0 | 175   | 3.62  | 2.770 | 15.50 | 0     | 1     | \n",
       "| Maserati Bora | 15.0  | 8     | 301.0 | 335   | 3.54  | 3.570 | 14.60 | 0     | 1     | \n",
       "\n",
       "\n"
      ],
      "text/plain": [
       "                    mpg  cyl disp  hp  drat wt    qsec  vs am\n",
       "Hornet Sportabout   18.7 8   360.0 175 3.15 3.440 17.02 0  0 \n",
       "Valiant             18.1 6   225.0 105 2.76 3.460 20.22 1  0 \n",
       "Duster 360          14.3 8   360.0 245 3.21 3.570 15.84 0  0 \n",
       "Merc 280            19.2 6   167.6 123 3.92 3.440 18.30 1  0 \n",
       "Merc 280C           17.8 6   167.6 123 3.92 3.440 18.90 1  0 \n",
       "Merc 450SE          16.4 8   275.8 180 3.07 4.070 17.40 0  0 \n",
       "Merc 450SL          17.3 8   275.8 180 3.07 3.730 17.60 0  0 \n",
       "Merc 450SLC         15.2 8   275.8 180 3.07 3.780 18.00 0  0 \n",
       "Cadillac Fleetwood  10.4 8   472.0 205 2.93 5.250 17.98 0  0 \n",
       "Lincoln Continental 10.4 8   460.0 215 3.00 5.424 17.82 0  0 \n",
       "Chrysler Imperial   14.7 8   440.0 230 3.23 5.345 17.42 0  0 \n",
       "Dodge Challenger    15.5 8   318.0 150 2.76 3.520 16.87 0  0 \n",
       "AMC Javelin         15.2 8   304.0 150 3.15 3.435 17.30 0  0 \n",
       "Camaro Z28          13.3 8   350.0 245 3.73 3.840 15.41 0  0 \n",
       "Pontiac Firebird    19.2 8   400.0 175 3.08 3.845 17.05 0  0 \n",
       "Ford Pantera L      15.8 8   351.0 264 4.22 3.170 14.50 0  1 \n",
       "Ferrari Dino        19.7 6   145.0 175 3.62 2.770 15.50 0  1 \n",
       "Maserati Bora       15.0 8   301.0 335 3.54 3.570 14.60 0  1 "
      ]
     },
     "metadata": {},
     "output_type": "display_data"
    }
   ],
   "source": [
    "subset(mtcars , mpg < 20)[1:9]"
   ]
  },
  {
   "cell_type": "code",
   "execution_count": null,
   "metadata": {},
   "outputs": [],
   "source": []
  }
 ],
 "metadata": {
  "kernelspec": {
   "display_name": "R",
   "language": "R",
   "name": "ir"
  },
  "language_info": {
   "codemirror_mode": "r",
   "file_extension": ".r",
   "mimetype": "text/x-r-source",
   "name": "R",
   "pygments_lexer": "r",
   "version": "3.5.1"
  }
 },
 "nbformat": 4,
 "nbformat_minor": 2
}
