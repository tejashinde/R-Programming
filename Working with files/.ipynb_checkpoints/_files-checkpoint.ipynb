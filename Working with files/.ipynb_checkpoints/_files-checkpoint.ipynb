{
 "cells": [
  {
   "cell_type": "code",
   "execution_count": 2,
   "metadata": {},
   "outputs": [],
   "source": [
    "df <- read.csv('../Data/Airlinewise Monthly International Air Traffic To And From The Indian Territory.csv')"
   ]
  },
  {
   "cell_type": "code",
   "execution_count": 3,
   "metadata": {},
   "outputs": [
    {
     "data": {
      "text/plain": [
       "      YEAR          MONTH      QUARTER           AIRLINE.NAME    CARRIER.TYPE \n",
       " Min.   :2015   FEB    : 264   Q1:792   AEROFLOT       :  27   DOMESTIC: 135  \n",
       " 1st Qu.:2015   JAN    : 264   Q2:504   AEROLOGIC      :  27   FOREIGN :2199  \n",
       " Median :2016   MAR    : 264   Q3:507   AIR ARABIA     :  27                  \n",
       " Mean   :2016   DEC    : 177   Q4:531   AIR ASIA BERHAD:  27                  \n",
       " 3rd Qu.:2016   NOV    : 177            AIR ASTANA     :  27                  \n",
       " Max.   :2017   OCT    : 177            AIR AUSTRAL    :  27                  \n",
       "                (Other):1011            (Other)        :2172                  \n",
       " PASSENGERS.TO.INDIA PASSENGERS.FROM.INDIA FREIGHT.TO.INDIA  \n",
       " Min.   :     0      Min.   :     0        Min.   :    0.00  \n",
       " 1st Qu.:  1488      1st Qu.:  1629        1st Qu.:    0.30  \n",
       " Median :  4960      Median :  5264        Median :   53.95  \n",
       " Mean   : 24477      Mean   : 25453        Mean   :  550.93  \n",
       " 3rd Qu.: 23290      3rd Qu.: 23419        3rd Qu.:  311.21  \n",
       " Max.   :402497      Max.   :400155        Max.   :14916.47  \n",
       " NA's   :1                                                   \n",
       " FREIGHT.FROM.INDIA\n",
       " Min.   :    0.00  \n",
       " 1st Qu.:    8.53  \n",
       " Median :  154.32  \n",
       " Mean   :  865.26  \n",
       " 3rd Qu.:  770.03  \n",
       " Max.   :48640.30  \n",
       "                   "
      ]
     },
     "metadata": {},
     "output_type": "display_data"
    }
   ],
   "source": [
    "summary(df)"
   ]
  },
  {
   "cell_type": "code",
   "execution_count": 4,
   "metadata": {},
   "outputs": [],
   "source": [
    "months <- data.frame(unique(df$MONTH))"
   ]
  },
  {
   "cell_type": "code",
   "execution_count": 15,
   "metadata": {},
   "outputs": [
    {
     "ename": "ERROR",
     "evalue": "Error in sort(df$FREIGHT.FROM.INDIA, df$MONTH): 'decreasing' must be a length-1 logical vector.\nDid you intend to set 'partial'?\n",
     "output_type": "error",
     "traceback": [
      "Error in sort(df$FREIGHT.FROM.INDIA, df$MONTH): 'decreasing' must be a length-1 logical vector.\nDid you intend to set 'partial'?\nTraceback:\n",
      "1. plot(sort(df$FREIGHT.FROM.INDIA, df$MONTH))",
      "2. sort(df$FREIGHT.FROM.INDIA, df$MONTH)",
      "3. stop(\"'decreasing' must be a length-1 logical vector.\\nDid you intend to set 'partial'?\")"
     ]
    }
   ],
   "source": [
    "plot(sort(df$FREIGHT.FROM.INDIA , df$MONTH ))\n",
    "ylabel(\"Months\")"
   ]
  },
  {
   "cell_type": "code",
   "execution_count": 6,
   "metadata": {},
   "outputs": [
    {
     "data": {
      "text/html": [
       "<ol class=list-inline>\n",
       "\t<li>66</li>\n",
       "\t<li>98</li>\n",
       "</ol>\n"
      ],
      "text/latex": [
       "\\begin{enumerate*}\n",
       "\\item 66\n",
       "\\item 98\n",
       "\\end{enumerate*}\n"
      ],
      "text/markdown": [
       "1. 66\n",
       "2. 98\n",
       "\n",
       "\n"
      ],
      "text/plain": [
       "[1] 66 98"
      ]
     },
     "metadata": {},
     "output_type": "display_data"
    }
   ],
   "source": [
    "utf8ToInt(\"Bb\")\n"
   ]
  },
  {
   "cell_type": "code",
   "execution_count": 3,
   "metadata": {},
   "outputs": [
    {
     "data": {
      "text/html": [
       "<table>\n",
       "<thead><tr><th scope=col>LETTERS.1.10.</th><th scope=col>utf8ToInt.paste.LETTERS.0.10...sep.......collapse.......</th></tr></thead>\n",
       "<tbody>\n",
       "\t<tr><td>A </td><td>65</td></tr>\n",
       "\t<tr><td>B </td><td>66</td></tr>\n",
       "\t<tr><td>C </td><td>67</td></tr>\n",
       "\t<tr><td>D </td><td>68</td></tr>\n",
       "\t<tr><td>E </td><td>69</td></tr>\n",
       "\t<tr><td>F </td><td>70</td></tr>\n",
       "\t<tr><td>G </td><td>71</td></tr>\n",
       "\t<tr><td>H </td><td>72</td></tr>\n",
       "\t<tr><td>I </td><td>73</td></tr>\n",
       "\t<tr><td>J </td><td>74</td></tr>\n",
       "</tbody>\n",
       "</table>\n"
      ],
      "text/latex": [
       "\\begin{tabular}{r|ll}\n",
       " LETTERS.1.10. & utf8ToInt.paste.LETTERS.0.10...sep.......collapse.......\\\\\n",
       "\\hline\n",
       "\t A  & 65\\\\\n",
       "\t B  & 66\\\\\n",
       "\t C  & 67\\\\\n",
       "\t D  & 68\\\\\n",
       "\t E  & 69\\\\\n",
       "\t F  & 70\\\\\n",
       "\t G  & 71\\\\\n",
       "\t H  & 72\\\\\n",
       "\t I  & 73\\\\\n",
       "\t J  & 74\\\\\n",
       "\\end{tabular}\n"
      ],
      "text/markdown": [
       "\n",
       "LETTERS.1.10. | utf8ToInt.paste.LETTERS.0.10...sep.......collapse....... | \n",
       "|---|---|---|---|---|---|---|---|---|---|\n",
       "| A  | 65 | \n",
       "| B  | 66 | \n",
       "| C  | 67 | \n",
       "| D  | 68 | \n",
       "| E  | 69 | \n",
       "| F  | 70 | \n",
       "| G  | 71 | \n",
       "| H  | 72 | \n",
       "| I  | 73 | \n",
       "| J  | 74 | \n",
       "\n",
       "\n"
      ],
      "text/plain": [
       "   LETTERS.1.10. utf8ToInt.paste.LETTERS.0.10...sep.......collapse.......\n",
       "1  A             65                                                      \n",
       "2  B             66                                                      \n",
       "3  C             67                                                      \n",
       "4  D             68                                                      \n",
       "5  E             69                                                      \n",
       "6  F             70                                                      \n",
       "7  G             71                                                      \n",
       "8  H             72                                                      \n",
       "9  I             73                                                      \n",
       "10 J             74                                                      "
      ]
     },
     "metadata": {},
     "output_type": "display_data"
    }
   ],
   "source": [
    "data.frame(LETTERS[1:10] , utf8ToInt(paste(LETTERS[0:10],sep=\"\",collapse=\"\")))"
   ]
  },
  {
   "cell_type": "code",
   "execution_count": 4,
   "metadata": {},
   "outputs": [
    {
     "data": {
      "text/html": [],
      "text/latex": [],
      "text/markdown": [],
      "text/plain": [
       "character(0)"
      ]
     },
     "metadata": {},
     "output_type": "display_data"
    }
   ],
   "source": [
    "ls()"
   ]
  },
  {
   "cell_type": "markdown",
   "metadata": {},
   "source": [
    "## Encryption and Decryption"
   ]
  },
  {
   "cell_type": "code",
   "execution_count": 5,
   "metadata": {},
   "outputs": [],
   "source": [
    "message = utf8ToInt(\"Tejas is a boy\")\n",
    "code = 13 #Code should always be a prime number\n",
    "\n",
    "rem = message %% code\n",
    "quotient = message %/% code\n",
    "\n",
    "final_codeVector = quotient * code + rem"
   ]
  },
  {
   "cell_type": "code",
   "execution_count": 6,
   "metadata": {},
   "outputs": [
    {
     "data": {
      "text/html": [
       "'Tejas is a boy'"
      ],
      "text/latex": [
       "'Tejas is a boy'"
      ],
      "text/markdown": [
       "'Tejas is a boy'"
      ],
      "text/plain": [
       "[1] \"Tejas is a boy\""
      ]
     },
     "metadata": {},
     "output_type": "display_data"
    }
   ],
   "source": [
    "intToUtf8(final_codeVector)"
   ]
  },
  {
   "cell_type": "code",
   "execution_count": 7,
   "metadata": {},
   "outputs": [
    {
     "data": {
      "text/html": [
       "'Tejas'"
      ],
      "text/latex": [
       "'Tejas'"
      ],
      "text/markdown": [
       "'Tejas'"
      ],
      "text/plain": [
       "[1] \"Tejas\""
      ]
     },
     "metadata": {},
     "output_type": "display_data"
    }
   ],
   "source": [
    "'Tejas'"
   ]
  },
  {
   "cell_type": "code",
   "execution_count": 48,
   "metadata": {},
   "outputs": [],
   "source": [
    "df = data.frame(Names = c('Radha','Monika','Sawan','Ram','Tejas') , Surnames = c('Rao','Sharma','Doshi','Ranade','Shinde'))"
   ]
  },
  {
   "cell_type": "code",
   "execution_count": 49,
   "metadata": {},
   "outputs": [
    {
     "data": {
      "text/html": [
       "<table>\n",
       "<thead><tr><th scope=col>Names</th><th scope=col>Surnames</th></tr></thead>\n",
       "<tbody>\n",
       "\t<tr><td>Radha </td><td>Rao   </td></tr>\n",
       "\t<tr><td>Monika</td><td>Sharma</td></tr>\n",
       "\t<tr><td>Sawan </td><td>Doshi </td></tr>\n",
       "\t<tr><td>Ram   </td><td>Ranade</td></tr>\n",
       "\t<tr><td>Tejas </td><td>Shinde</td></tr>\n",
       "</tbody>\n",
       "</table>\n"
      ],
      "text/latex": [
       "\\begin{tabular}{r|ll}\n",
       " Names & Surnames\\\\\n",
       "\\hline\n",
       "\t Radha  & Rao   \\\\\n",
       "\t Monika & Sharma\\\\\n",
       "\t Sawan  & Doshi \\\\\n",
       "\t Ram    & Ranade\\\\\n",
       "\t Tejas  & Shinde\\\\\n",
       "\\end{tabular}\n"
      ],
      "text/markdown": [
       "\n",
       "Names | Surnames | \n",
       "|---|---|---|---|---|\n",
       "| Radha  | Rao    | \n",
       "| Monika | Sharma | \n",
       "| Sawan  | Doshi  | \n",
       "| Ram    | Ranade | \n",
       "| Tejas  | Shinde | \n",
       "\n",
       "\n"
      ],
      "text/plain": [
       "  Names  Surnames\n",
       "1 Radha  Rao     \n",
       "2 Monika Sharma  \n",
       "3 Sawan  Doshi   \n",
       "4 Ram    Ranade  \n",
       "5 Tejas  Shinde  "
      ]
     },
     "metadata": {},
     "output_type": "display_data"
    }
   ],
   "source": [
    "df"
   ]
  },
  {
   "cell_type": "code",
   "execution_count": 50,
   "metadata": {},
   "outputs": [],
   "source": [
    "findInitials = function(name , surname)\n",
    "    {\n",
    "        return (paste(substr(name , 1 , 1) , substr(surname , 1 , 1) , sep = \"\" , collapse = \"\"))\n",
    "    }"
   ]
  },
  {
   "cell_type": "code",
   "execution_count": 51,
   "metadata": {},
   "outputs": [],
   "source": [
    "vowelCount = function(name)\n",
    "    {\n",
    "        coll = is.element(unlist(strsplit(tolower(name),'')),c('a','e','i','o','u'))\n",
    "        return (length(coll[coll == TRUE]))\n",
    "    }"
   ]
  },
  {
   "cell_type": "code",
   "execution_count": 52,
   "metadata": {},
   "outputs": [],
   "source": [
    "removeVowel = function (name)\n",
    "    {\n",
    "        return (gsub('a|e|i|o|u','',name))\n",
    "    }"
   ]
  },
  {
   "cell_type": "code",
   "execution_count": 53,
   "metadata": {},
   "outputs": [
    {
     "data": {
      "text/html": [
       "4"
      ],
      "text/latex": [
       "4"
      ],
      "text/markdown": [
       "4"
      ],
      "text/plain": [
       "[1] 4"
      ]
     },
     "metadata": {},
     "output_type": "display_data"
    }
   ],
   "source": [
    "match('a' , unlist(strsplit('Tejaas' , '')))"
   ]
  },
  {
   "cell_type": "code",
   "execution_count": 54,
   "metadata": {
    "scrolled": true
   },
   "outputs": [
    {
     "data": {
      "text/html": [
       "4"
      ],
      "text/latex": [
       "4"
      ],
      "text/markdown": [
       "4"
      ],
      "text/plain": [
       "[1] 4"
      ]
     },
     "metadata": {},
     "output_type": "display_data"
    }
   ],
   "source": [
    "vowelCount('Tejaaas')"
   ]
  },
  {
   "cell_type": "code",
   "execution_count": 55,
   "metadata": {},
   "outputs": [
    {
     "data": {
      "text/html": [
       "'TS'"
      ],
      "text/latex": [
       "'TS'"
      ],
      "text/markdown": [
       "'TS'"
      ],
      "text/plain": [
       "[1] \"TS\""
      ]
     },
     "metadata": {},
     "output_type": "display_data"
    }
   ],
   "source": [
    "findInitials('Tejas','Shinde')"
   ]
  },
  {
   "cell_type": "code",
   "execution_count": 56,
   "metadata": {},
   "outputs": [],
   "source": [
    "df$removeVowelsFN = apply(df[1] , removeVowel , MARGIN = 1)"
   ]
  },
  {
   "cell_type": "code",
   "execution_count": 57,
   "metadata": {},
   "outputs": [],
   "source": [
    "df$VowelCount = apply(df[1] , vowelCount , MARGIN = 1)"
   ]
  },
  {
   "cell_type": "code",
   "execution_count": 58,
   "metadata": {},
   "outputs": [],
   "source": [
    "df$Initials = mapply(findInitials , df$Names , df$Surnames)"
   ]
  },
  {
   "cell_type": "code",
   "execution_count": 59,
   "metadata": {},
   "outputs": [],
   "source": [
    "df$LengthInSurname = apply(df[2] , nchar , MARGIN = 1)"
   ]
  },
  {
   "cell_type": "code",
   "execution_count": 60,
   "metadata": {},
   "outputs": [
    {
     "data": {
      "text/html": [
       "<table>\n",
       "<thead><tr><th scope=col>Names</th><th scope=col>Surnames</th><th scope=col>removeVowelsFN</th><th scope=col>VowelCount</th><th scope=col>Initials</th><th scope=col>LengthInSurname</th></tr></thead>\n",
       "<tbody>\n",
       "\t<tr><td>Radha </td><td>Rao   </td><td>Rdh   </td><td>2     </td><td>RR    </td><td>3     </td></tr>\n",
       "\t<tr><td>Monika</td><td>Sharma</td><td>Mnk   </td><td>3     </td><td>MS    </td><td>6     </td></tr>\n",
       "\t<tr><td>Sawan </td><td>Doshi </td><td>Swn   </td><td>2     </td><td>SD    </td><td>5     </td></tr>\n",
       "\t<tr><td>Ram   </td><td>Ranade</td><td>Rm    </td><td>1     </td><td>RR    </td><td>6     </td></tr>\n",
       "\t<tr><td>Tejas </td><td>Shinde</td><td>Tjs   </td><td>2     </td><td>TS    </td><td>6     </td></tr>\n",
       "</tbody>\n",
       "</table>\n"
      ],
      "text/latex": [
       "\\begin{tabular}{r|llllll}\n",
       " Names & Surnames & removeVowelsFN & VowelCount & Initials & LengthInSurname\\\\\n",
       "\\hline\n",
       "\t Radha  & Rao    & Rdh    & 2      & RR     & 3     \\\\\n",
       "\t Monika & Sharma & Mnk    & 3      & MS     & 6     \\\\\n",
       "\t Sawan  & Doshi  & Swn    & 2      & SD     & 5     \\\\\n",
       "\t Ram    & Ranade & Rm     & 1      & RR     & 6     \\\\\n",
       "\t Tejas  & Shinde & Tjs    & 2      & TS     & 6     \\\\\n",
       "\\end{tabular}\n"
      ],
      "text/markdown": [
       "\n",
       "Names | Surnames | removeVowelsFN | VowelCount | Initials | LengthInSurname | \n",
       "|---|---|---|---|---|\n",
       "| Radha  | Rao    | Rdh    | 2      | RR     | 3      | \n",
       "| Monika | Sharma | Mnk    | 3      | MS     | 6      | \n",
       "| Sawan  | Doshi  | Swn    | 2      | SD     | 5      | \n",
       "| Ram    | Ranade | Rm     | 1      | RR     | 6      | \n",
       "| Tejas  | Shinde | Tjs    | 2      | TS     | 6      | \n",
       "\n",
       "\n"
      ],
      "text/plain": [
       "  Names  Surnames removeVowelsFN VowelCount Initials LengthInSurname\n",
       "1 Radha  Rao      Rdh            2          RR       3              \n",
       "2 Monika Sharma   Mnk            3          MS       6              \n",
       "3 Sawan  Doshi    Swn            2          SD       5              \n",
       "4 Ram    Ranade   Rm             1          RR       6              \n",
       "5 Tejas  Shinde   Tjs            2          TS       6              "
      ]
     },
     "metadata": {},
     "output_type": "display_data"
    }
   ],
   "source": [
    "df"
   ]
  },
  {
   "cell_type": "code",
   "execution_count": 63,
   "metadata": {},
   "outputs": [
    {
     "name": "stderr",
     "output_type": "stream",
     "text": [
      "Warning message in `[<-.factor`(`*tmp*`, ri, value = 10L):\n",
      "\"invalid factor level, NA generated\"Warning message in `[<-.factor`(`*tmp*`, ri, value = 11L):\n",
      "\"invalid factor level, NA generated\""
     ]
    },
    {
     "data": {
      "text/html": [
       "<table>\n",
       "<thead><tr><th scope=col>Names</th><th scope=col>Surnames</th><th scope=col>removeVowelsFN</th><th scope=col>VowelCount</th><th scope=col>Initials</th><th scope=col>LengthInSurname</th></tr></thead>\n",
       "<tbody>\n",
       "\t<tr><td>Radha </td><td>Rao   </td><td>Rdh   </td><td>2     </td><td>RR    </td><td>3     </td></tr>\n",
       "\t<tr><td>Monika</td><td>Sharma</td><td>Mnk   </td><td>3     </td><td>MS    </td><td>6     </td></tr>\n",
       "\t<tr><td>Sawan </td><td>Doshi </td><td>Swn   </td><td>2     </td><td>SD    </td><td>5     </td></tr>\n",
       "\t<tr><td>Ram   </td><td>Ranade</td><td>Rm    </td><td>1     </td><td>RR    </td><td>6     </td></tr>\n",
       "\t<tr><td>Tejas </td><td>Shinde</td><td>Tjs   </td><td>2     </td><td>TS    </td><td>6     </td></tr>\n",
       "\t<tr><td>NA    </td><td>NA    </td><td>0     </td><td>0     </td><td>0     </td><td>0     </td></tr>\n",
       "</tbody>\n",
       "</table>\n"
      ],
      "text/latex": [
       "\\begin{tabular}{r|llllll}\n",
       " Names & Surnames & removeVowelsFN & VowelCount & Initials & LengthInSurname\\\\\n",
       "\\hline\n",
       "\t Radha  & Rao    & Rdh    & 2      & RR     & 3     \\\\\n",
       "\t Monika & Sharma & Mnk    & 3      & MS     & 6     \\\\\n",
       "\t Sawan  & Doshi  & Swn    & 2      & SD     & 5     \\\\\n",
       "\t Ram    & Ranade & Rm     & 1      & RR     & 6     \\\\\n",
       "\t Tejas  & Shinde & Tjs    & 2      & TS     & 6     \\\\\n",
       "\t NA     & NA     & 0      & 0      & 0      & 0     \\\\\n",
       "\\end{tabular}\n"
      ],
      "text/markdown": [
       "\n",
       "Names | Surnames | removeVowelsFN | VowelCount | Initials | LengthInSurname | \n",
       "|---|---|---|---|---|---|\n",
       "| Radha  | Rao    | Rdh    | 2      | RR     | 3      | \n",
       "| Monika | Sharma | Mnk    | 3      | MS     | 6      | \n",
       "| Sawan  | Doshi  | Swn    | 2      | SD     | 5      | \n",
       "| Ram    | Ranade | Rm     | 1      | RR     | 6      | \n",
       "| Tejas  | Shinde | Tjs    | 2      | TS     | 6      | \n",
       "| NA     | NA     | 0      | 0      | 0      | 0      | \n",
       "\n",
       "\n"
      ],
      "text/plain": [
       "  Names  Surnames removeVowelsFN VowelCount Initials LengthInSurname\n",
       "1 Radha  Rao      Rdh            2          RR       3              \n",
       "2 Monika Sharma   Mnk            3          MS       6              \n",
       "3 Sawan  Doshi    Swn            2          SD       5              \n",
       "4 Ram    Ranade   Rm             1          RR       6              \n",
       "5 Tejas  Shinde   Tjs            2          TS       6              \n",
       "6 NA     NA       0              0          0        0              "
      ]
     },
     "metadata": {},
     "output_type": "display_data"
    }
   ],
   "source": [
    "rbind(df , c(apply(df , vowelCount , MARGIN = 2)))"
   ]
  },
  {
   "cell_type": "code",
   "execution_count": 74,
   "metadata": {},
   "outputs": [],
   "source": [
    "dataframe = data.frame(Numbers = 1:10)\n",
    "sqre = function(number){return (number ^ 2)}"
   ]
  },
  {
   "cell_type": "code",
   "execution_count": 73,
   "metadata": {},
   "outputs": [
    {
     "ename": "ERROR",
     "evalue": "Error in data.frame[1]: object of type 'closure' is not subsettable\n",
     "output_type": "error",
     "traceback": [
      "Error in data.frame[1]: object of type 'closure' is not subsettable\nTraceback:\n",
      "1. apply(data.frame[1], function(number) {\n .     return(number^2)\n . }, MARGIN = 1)"
     ]
    }
   ],
   "source": [
    "dataframe$sqrt = apply(dataframe[1] , sqrt , MARGIN = 1)\n",
    "dataframe$square = apply(data.frame[1] , function(number){return (number ^ 2)} , MARGIN = 1)"
   ]
  },
  {
   "cell_type": "code",
   "execution_count": 69,
   "metadata": {},
   "outputs": [
    {
     "data": {
      "text/html": [
       "<table>\n",
       "<thead><tr><th scope=col>Numbers</th><th scope=col>sqrt</th></tr></thead>\n",
       "<tbody>\n",
       "\t<tr><td> 1      </td><td>1.000000</td></tr>\n",
       "\t<tr><td> 2      </td><td>1.414214</td></tr>\n",
       "\t<tr><td> 3      </td><td>1.732051</td></tr>\n",
       "\t<tr><td> 4      </td><td>2.000000</td></tr>\n",
       "\t<tr><td> 5      </td><td>2.236068</td></tr>\n",
       "\t<tr><td> 6      </td><td>2.449490</td></tr>\n",
       "\t<tr><td> 7      </td><td>2.645751</td></tr>\n",
       "\t<tr><td> 8      </td><td>2.828427</td></tr>\n",
       "\t<tr><td> 9      </td><td>3.000000</td></tr>\n",
       "\t<tr><td>10      </td><td>3.162278</td></tr>\n",
       "</tbody>\n",
       "</table>\n"
      ],
      "text/latex": [
       "\\begin{tabular}{r|ll}\n",
       " Numbers & sqrt\\\\\n",
       "\\hline\n",
       "\t  1       & 1.000000\\\\\n",
       "\t  2       & 1.414214\\\\\n",
       "\t  3       & 1.732051\\\\\n",
       "\t  4       & 2.000000\\\\\n",
       "\t  5       & 2.236068\\\\\n",
       "\t  6       & 2.449490\\\\\n",
       "\t  7       & 2.645751\\\\\n",
       "\t  8       & 2.828427\\\\\n",
       "\t  9       & 3.000000\\\\\n",
       "\t 10       & 3.162278\\\\\n",
       "\\end{tabular}\n"
      ],
      "text/markdown": [
       "\n",
       "Numbers | sqrt | \n",
       "|---|---|---|---|---|---|---|---|---|---|\n",
       "|  1       | 1.000000 | \n",
       "|  2       | 1.414214 | \n",
       "|  3       | 1.732051 | \n",
       "|  4       | 2.000000 | \n",
       "|  5       | 2.236068 | \n",
       "|  6       | 2.449490 | \n",
       "|  7       | 2.645751 | \n",
       "|  8       | 2.828427 | \n",
       "|  9       | 3.000000 | \n",
       "| 10       | 3.162278 | \n",
       "\n",
       "\n"
      ],
      "text/plain": [
       "   Numbers sqrt    \n",
       "1   1      1.000000\n",
       "2   2      1.414214\n",
       "3   3      1.732051\n",
       "4   4      2.000000\n",
       "5   5      2.236068\n",
       "6   6      2.449490\n",
       "7   7      2.645751\n",
       "8   8      2.828427\n",
       "9   9      3.000000\n",
       "10 10      3.162278"
      ]
     },
     "metadata": {},
     "output_type": "display_data"
    }
   ],
   "source": [
    "dataframe"
   ]
  },
  {
   "cell_type": "code",
   "execution_count": null,
   "metadata": {},
   "outputs": [],
   "source": []
  }
 ],
 "metadata": {
  "kernelspec": {
   "display_name": "R",
   "language": "R",
   "name": "ir"
  },
  "language_info": {
   "codemirror_mode": "r",
   "file_extension": ".r",
   "mimetype": "text/x-r-source",
   "name": "R",
   "pygments_lexer": "r",
   "version": "3.5.1"
  }
 },
 "nbformat": 4,
 "nbformat_minor": 2
}
