{
 "cells": [
  {
   "cell_type": "code",
   "execution_count": 24,
   "metadata": {},
   "outputs": [
    {
     "data": {
      "text/html": [
       "<ol class=list-inline>\n",
       "\t<li>12</li>\n",
       "\t<li>34</li>\n",
       "\t<li>45</li>\n",
       "\t<li>23</li>\n",
       "\t<li>37</li>\n",
       "\t<li>95</li>\n",
       "</ol>\n"
      ],
      "text/latex": [
       "\\begin{enumerate*}\n",
       "\\item 12\n",
       "\\item 34\n",
       "\\item 45\n",
       "\\item 23\n",
       "\\item 37\n",
       "\\item 95\n",
       "\\end{enumerate*}\n"
      ],
      "text/markdown": [
       "1. 12\n",
       "2. 34\n",
       "3. 45\n",
       "4. 23\n",
       "5. 37\n",
       "6. 95\n",
       "\n",
       "\n"
      ],
      "text/plain": [
       "[1] 12 34 45 23 37 95"
      ]
     },
     "metadata": {},
     "output_type": "display_data"
    }
   ],
   "source": [
    "data = c(12,34,45,23,37,95)\n",
    "data"
   ]
  },
  {
   "cell_type": "code",
   "execution_count": 19,
   "metadata": {},
   "outputs": [
    {
     "data": {
      "text/html": [
       "<dl>\n",
       "\t<dt>$stats</dt>\n",
       "\t\t<dd><ol class=list-inline>\n",
       "\t<li>12</li>\n",
       "\t<li>23</li>\n",
       "\t<li>34</li>\n",
       "\t<li>45</li>\n",
       "\t<li>45</li>\n",
       "</ol>\n",
       "</dd>\n",
       "\t<dt>$n</dt>\n",
       "\t\t<dd>5</dd>\n",
       "\t<dt>$conf</dt>\n",
       "\t\t<dd><ol class=list-inline>\n",
       "\t<li>18.4548554204215</li>\n",
       "\t<li>49.5451445795785</li>\n",
       "</ol>\n",
       "</dd>\n",
       "\t<dt>$out</dt>\n",
       "\t\t<dd>95</dd>\n",
       "</dl>\n"
      ],
      "text/latex": [
       "\\begin{description}\n",
       "\\item[\\$stats] \\begin{enumerate*}\n",
       "\\item 12\n",
       "\\item 23\n",
       "\\item 34\n",
       "\\item 45\n",
       "\\item 45\n",
       "\\end{enumerate*}\n",
       "\n",
       "\\item[\\$n] 5\n",
       "\\item[\\$conf] \\begin{enumerate*}\n",
       "\\item 18.4548554204215\n",
       "\\item 49.5451445795785\n",
       "\\end{enumerate*}\n",
       "\n",
       "\\item[\\$out] 95\n",
       "\\end{description}\n"
      ],
      "text/markdown": [
       "$stats\n",
       ":   1. 12\n",
       "2. 23\n",
       "3. 34\n",
       "4. 45\n",
       "5. 45\n",
       "\n",
       "\n",
       "\n",
       "$n\n",
       ":   5\n",
       "$conf\n",
       ":   1. 18.4548554204215\n",
       "2. 49.5451445795785\n",
       "\n",
       "\n",
       "\n",
       "$out\n",
       ":   95\n",
       "\n",
       "\n"
      ],
      "text/plain": [
       "$stats\n",
       "[1] 12 23 34 45 45\n",
       "\n",
       "$n\n",
       "[1] 5\n",
       "\n",
       "$conf\n",
       "[1] 18.45486 49.54514\n",
       "\n",
       "$out\n",
       "[1] 95\n"
      ]
     },
     "metadata": {},
     "output_type": "display_data"
    }
   ],
   "source": [
    "boxplot.stats(data)"
   ]
  },
  {
   "cell_type": "code",
   "execution_count": 27,
   "metadata": {},
   "outputs": [
    {
     "data": {
      "text/html": [
       "<dl class=dl-horizontal>\n",
       "\t<dt>0%</dt>\n",
       "\t\t<dd>12</dd>\n",
       "\t<dt>25%</dt>\n",
       "\t\t<dd>25.75</dd>\n",
       "\t<dt>50%</dt>\n",
       "\t\t<dd>35.5</dd>\n",
       "\t<dt>75%</dt>\n",
       "\t\t<dd>43</dd>\n",
       "\t<dt>100%</dt>\n",
       "\t\t<dd>95</dd>\n",
       "</dl>\n"
      ],
      "text/latex": [
       "\\begin{description*}\n",
       "\\item[0\\textbackslash{}\\%] 12\n",
       "\\item[25\\textbackslash{}\\%] 25.75\n",
       "\\item[50\\textbackslash{}\\%] 35.5\n",
       "\\item[75\\textbackslash{}\\%] 43\n",
       "\\item[100\\textbackslash{}\\%] 95\n",
       "\\end{description*}\n"
      ],
      "text/markdown": [
       "0%\n",
       ":   1225%\n",
       ":   25.7550%\n",
       ":   35.575%\n",
       ":   43100%\n",
       ":   95\n",
       "\n"
      ],
      "text/plain": [
       "   0%   25%   50%   75%  100% \n",
       "12.00 25.75 35.50 43.00 95.00 "
      ]
     },
     "metadata": {},
     "output_type": "display_data"
    }
   ],
   "source": [
    "quantile(data)"
   ]
  },
  {
   "cell_type": "code",
   "execution_count": null,
   "metadata": {},
   "outputs": [],
   "source": []
  }
 ],
 "metadata": {
  "kernelspec": {
   "display_name": "R",
   "language": "R",
   "name": "ir"
  },
  "language_info": {
   "codemirror_mode": "r",
   "file_extension": ".r",
   "mimetype": "text/x-r-source",
   "name": "R",
   "pygments_lexer": "r",
   "version": "3.5.1"
  }
 },
 "nbformat": 4,
 "nbformat_minor": 2
}
