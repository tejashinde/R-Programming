{
 "cells": [
  {
   "cell_type": "code",
   "execution_count": 23,
   "metadata": {},
   "outputs": [
    {
     "data": {
      "text/html": [
       "35.5"
      ],
      "text/latex": [
       "35.5"
      ],
      "text/markdown": [
       "35.5"
      ],
      "text/plain": [
       "[1] 35.5"
      ]
     },
     "metadata": {},
     "output_type": "display_data"
    }
   ],
   "source": [
    "data = c(12,34,45,23,37,95)\n",
    "data"
   ]
  },
  {
   "cell_type": "code",
   "execution_count": 19,
   "metadata": {},
   "outputs": [
    {
     "data": {
      "text/html": [
       "<dl>\n",
       "\t<dt>$stats</dt>\n",
       "\t\t<dd><ol class=list-inline>\n",
       "\t<li>12</li>\n",
       "\t<li>23</li>\n",
       "\t<li>34</li>\n",
       "\t<li>45</li>\n",
       "\t<li>45</li>\n",
       "</ol>\n",
       "</dd>\n",
       "\t<dt>$n</dt>\n",
       "\t\t<dd>5</dd>\n",
       "\t<dt>$conf</dt>\n",
       "\t\t<dd><ol class=list-inline>\n",
       "\t<li>18.4548554204215</li>\n",
       "\t<li>49.5451445795785</li>\n",
       "</ol>\n",
       "</dd>\n",
       "\t<dt>$out</dt>\n",
       "\t\t<dd>95</dd>\n",
       "</dl>\n"
      ],
      "text/latex": [
       "\\begin{description}\n",
       "\\item[\\$stats] \\begin{enumerate*}\n",
       "\\item 12\n",
       "\\item 23\n",
       "\\item 34\n",
       "\\item 45\n",
       "\\item 45\n",
       "\\end{enumerate*}\n",
       "\n",
       "\\item[\\$n] 5\n",
       "\\item[\\$conf] \\begin{enumerate*}\n",
       "\\item 18.4548554204215\n",
       "\\item 49.5451445795785\n",
       "\\end{enumerate*}\n",
       "\n",
       "\\item[\\$out] 95\n",
       "\\end{description}\n"
      ],
      "text/markdown": [
       "$stats\n",
       ":   1. 12\n",
       "2. 23\n",
       "3. 34\n",
       "4. 45\n",
       "5. 45\n",
       "\n",
       "\n",
       "\n",
       "$n\n",
       ":   5\n",
       "$conf\n",
       ":   1. 18.4548554204215\n",
       "2. 49.5451445795785\n",
       "\n",
       "\n",
       "\n",
       "$out\n",
       ":   95\n",
       "\n",
       "\n"
      ],
      "text/plain": [
       "$stats\n",
       "[1] 12 23 34 45 45\n",
       "\n",
       "$n\n",
       "[1] 5\n",
       "\n",
       "$conf\n",
       "[1] 18.45486 49.54514\n",
       "\n",
       "$out\n",
       "[1] 95\n"
      ]
     },
     "metadata": {},
     "output_type": "display_data"
    }
   ],
   "source": [
    "boxplot.stats(data)"
   ]
  },
  {
   "cell_type": "code",
   "execution_count": 21,
   "metadata": {},
   "outputs": [],
   "source": [
    "?mode"
   ]
  }
 ],
 "metadata": {
  "kernelspec": {
   "display_name": "R",
   "language": "R",
   "name": "ir"
  },
  "language_info": {
   "codemirror_mode": "r",
   "file_extension": ".r",
   "mimetype": "text/x-r-source",
   "name": "R",
   "pygments_lexer": "r",
   "version": "3.5.1"
  }
 },
 "nbformat": 4,
 "nbformat_minor": 2
}
