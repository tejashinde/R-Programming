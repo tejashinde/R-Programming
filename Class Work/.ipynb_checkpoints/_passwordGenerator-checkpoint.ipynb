{
 "cells": [
  {
   "cell_type": "code",
   "execution_count": 30,
   "metadata": {},
   "outputs": [],
   "source": [
    "generatePassword <- function(length)\n",
    "{\n",
    "        return (\n",
    "                    paste\n",
    "                    (\n",
    "                        c(sample\n",
    "                            (\n",
    "                                c(\n",
    "                                    sample(c(1:10) , 1) , \n",
    "                                    sample(letters , 3) , \n",
    "                                    sample(LETTERS , 2) ,\n",
    "                                    sample(c(\"!\",\"@\",\"#\",\"$\",\"%\") , 2)\n",
    "                                )\n",
    "                            )\n",
    "                        )\n",
    "                        ,collapse = \"\"\n",
    "                    )\n",
    "                )\n",
    "}"
   ]
  },
  {
   "cell_type": "code",
   "execution_count": 31,
   "metadata": {},
   "outputs": [
    {
     "data": {
      "text/html": [
       "'Vp!M5t@q'"
      ],
      "text/latex": [
       "'Vp!M5t@q'"
      ],
      "text/markdown": [
       "'Vp!M5t@q'"
      ],
      "text/plain": [
       "[1] \"Vp!M5t@q\""
      ]
     },
     "metadata": {},
     "output_type": "display_data"
    }
   ],
   "source": [
    "generatePassword()"
   ]
  },
  {
   "cell_type": "code",
   "execution_count": null,
   "metadata": {},
   "outputs": [],
   "source": []
  }
 ],
 "metadata": {
  "kernelspec": {
   "display_name": "R",
   "language": "R",
   "name": "ir"
  },
  "language_info": {
   "codemirror_mode": "r",
   "file_extension": ".r",
   "mimetype": "text/x-r-source",
   "name": "R",
   "pygments_lexer": "r",
   "version": "3.5.1"
  }
 },
 "nbformat": 4,
 "nbformat_minor": 2
}
