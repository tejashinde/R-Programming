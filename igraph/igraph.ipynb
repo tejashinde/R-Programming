{
 "cells": [
  {
   "cell_type": "code",
   "execution_count": 3,
   "metadata": {},
   "outputs": [
    {
     "name": "stderr",
     "output_type": "stream",
     "text": [
      "Loading required package: igraph\n",
      "Warning message:\n",
      "\"package 'igraph' was built under R version 3.5.2\"\n",
      "Attaching package: 'igraph'\n",
      "\n",
      "The following objects are masked from 'package:stats':\n",
      "\n",
      "    decompose, spectrum\n",
      "\n",
      "The following object is masked from 'package:base':\n",
      "\n",
      "    union\n",
      "\n"
     ]
    }
   ],
   "source": [
    "require(igraph)"
   ]
  },
  {
   "cell_type": "code",
   "execution_count": 12,
   "metadata": {},
   "outputs": [],
   "source": [
    "data = read.table(\"http://www.dimiter.eu/Data_files/edgesdata3.txt\" , sep = '\\t' , dec = ',' , header = T)"
   ]
  },
  {
   "cell_type": "code",
   "execution_count": 22,
   "metadata": {},
   "outputs": [],
   "source": [
    "data.network = graph.data.frame(data , directed = FALSE)"
   ]
  },
  {
   "cell_type": "code",
   "execution_count": 23,
   "metadata": {},
   "outputs": [
    {
     "data": {
      "text/plain": [
       "IGRAPH 008d7ee UN-- 52 290 -- \n",
       "+ attr: name (v/c), grade (e/n), spec (e/c)\n",
       "+ edges from 008d7ee (vertex names):\n",
       " [1] AA--DD AB--DD AF--BA DD--DA CD--EC DD--CE CD--FA CD--CC AF--BA CB--CA\n",
       "[11] CC--CA CD--CA BC--CA DD--DA ED--AD AE--AC AB--BA CD--EC CC--CA CC--EB\n",
       "[21] BF--CE CD--BB AE--AC CC--FB BB--DC BD--CF DB--DA DD--DA DD--DB AF--BC\n",
       "[31] CF--DE BF--DF CB--CA CA--BE CA--EA CB--CA CB--CA CC--CA CD--CA BC--CA\n",
       "[41] CA--BF CA--CE AC--AD BD--BE AE--DF CB--DF AC--DF AA--DD AA--DD AA--DD\n",
       "[51] DD--CD AA--DD DD--EE DD--CD AA--DB AA--FC CC--BE EF--FD CF--FE DD--BB\n",
       "[61] DD--CD AB--BA CD--EC BE--EE CC--CE CD--CC CC--ED CC--BB BE--CE DD--CE\n",
       "[71] CD--AC CD--ED CD--FF CD--AC DD--CD DD--CD AE--GA AE--GA AE--GA AE--GA\n",
       "+ ... omitted several edges"
      ]
     },
     "metadata": {},
     "output_type": "display_data"
    }
   ],
   "source": [
    "data.network"
   ]
  },
  {
   "cell_type": "code",
   "execution_count": 24,
   "metadata": {},
   "outputs": [
    {
     "data": {
      "text/plain": [
       "+ 52/52 vertices, named, from 008d7ee:\n",
       " [1] AA AB AF DD CD BA CB CC BC ED AE CA EB BF BB AC DC BD DB CF DF BE EA CE EE\n",
       "[26] EF FF FD GB GC GD AD KA KF LC DA EC FA FB DE FC FE GA GE KB KC KD KE LB LA\n",
       "[51] LD LE"
      ]
     },
     "metadata": {},
     "output_type": "display_data"
    }
   ],
   "source": [
    "V(data.network)"
   ]
  },
  {
   "cell_type": "code",
   "execution_count": 25,
   "metadata": {},
   "outputs": [
    {
     "data": {
      "text/plain": [
       "+ 290/290 edges from 008d7ee (vertex names):\n",
       "  [1] AA--DD AB--DD AF--BA DD--DA CD--EC DD--CE CD--FA CD--CC AF--BA CB--CA\n",
       " [11] CC--CA CD--CA BC--CA DD--DA ED--AD AE--AC AB--BA CD--EC CC--CA CC--EB\n",
       " [21] BF--CE CD--BB AE--AC CC--FB BB--DC BD--CF DB--DA DD--DA DD--DB AF--BC\n",
       " [31] CF--DE BF--DF CB--CA CA--BE CA--EA CB--CA CB--CA CC--CA CD--CA BC--CA\n",
       " [41] CA--BF CA--CE AC--AD BD--BE AE--DF CB--DF AC--DF AA--DD AA--DD AA--DD\n",
       " [51] DD--CD AA--DD DD--EE DD--CD AA--DB AA--FC CC--BE EF--FD CF--FE DD--BB\n",
       " [61] DD--CD AB--BA CD--EC BE--EE CC--CE CD--CC CC--ED CC--BB BE--CE DD--CE\n",
       " [71] CD--AC CD--ED CD--FF CD--AC DD--CD DD--CD AE--GA AE--GA AE--GA AE--GA\n",
       " [81] BA--ED ED--BE ED--EB CD--ED EF--FD EF--FD CD--BB BF--BB BC--BB BB--CF\n",
       " [91] AE--AC DD--DA CA--BE CA--BE CB--CA CB--CA CC--CA CC--BE CC--BE DD--DB\n",
       "+ ... omitted several edges"
      ]
     },
     "metadata": {},
     "output_type": "display_data"
    }
   ],
   "source": [
    "E(data.network)"
   ]
  },
  {
   "cell_type": "code",
   "execution_count": 26,
   "metadata": {},
   "outputs": [
    {
     "data": {
      "image/png": "[encoded data removed]",
      "text/plain": [
       "Plot with title \"\""
      ]
     },
     "metadata": {},
     "output_type": "display_data"
    }
   ],
   "source": [
    "plot(data.network)"
   ]
  },
  {
   "cell_type": "code",
   "execution_count": 35,
   "metadata": {},
   "outputs": [
    {
     "name": "stdout",
     "output_type": "stream",
     "text": [
      "IGRAPH e376e7d DN-- 5 6 -- \n",
      "+ attr: name (v/c), age (v/n), gender (v/c)\n",
      "+ edges from e376e7d (vertex names):\n",
      "[1] Java  ->Python     C++   ->C++        C++   ->Python     Python->Python    \n",
      "[5] Python->Networking Python->C         \n"
     ]
    },
    {
     "data": {
      "text/html": [
       "<table>\n",
       "<thead><tr><th></th><th scope=col>name</th><th scope=col>age</th><th scope=col>gender</th></tr></thead>\n",
       "<tbody>\n",
       "\t<tr><th scope=row>Python</th><td>Python    </td><td>48        </td><td>F         </td></tr>\n",
       "\t<tr><th scope=row>Java</th><td>Java      </td><td>33        </td><td>M         </td></tr>\n",
       "\t<tr><th scope=row>C</th><td>C         </td><td>45        </td><td>F         </td></tr>\n",
       "\t<tr><th scope=row>C++</th><td>C++       </td><td>34        </td><td>M         </td></tr>\n",
       "\t<tr><th scope=row>Networking</th><td>Networking</td><td>21        </td><td>F         </td></tr>\n",
       "</tbody>\n",
       "</table>\n"
      ],
      "text/latex": [
       "\\begin{tabular}{r|lll}\n",
       "  & name & age & gender\\\\\n",
       "\\hline\n",
       "\tPython & Python     & 48         & F         \\\\\n",
       "\tJava & Java       & 33         & M         \\\\\n",
       "\tC & C          & 45         & F         \\\\\n",
       "\tC++ & C++        & 34         & M         \\\\\n",
       "\tNetworking & Networking & 21         & F         \\\\\n",
       "\\end{tabular}\n"
      ],
      "text/markdown": [
       "\n",
       "| <!--/--> | name | age | gender | \n",
       "|---|---|---|---|---|\n",
       "| Python | Python     | 48         | F          | \n",
       "| Java | Java       | 33         | M          | \n",
       "| C | C          | 45         | F          | \n",
       "| C++ | C++        | 34         | M          | \n",
       "| Networking | Networking | 21         | F          | \n",
       "\n",
       "\n"
      ],
      "text/plain": [
       "           name       age gender\n",
       "Python     Python     48  F     \n",
       "Java       Java       33  M     \n",
       "C          C          45  F     \n",
       "C++        C++        34  M     \n",
       "Networking Networking 21  F     "
      ]
     },
     "metadata": {},
     "output_type": "display_data"
    },
    {
     "data": {
      "text/html": [
       "<table>\n",
       "<thead><tr><th scope=col>from</th><th scope=col>to</th></tr></thead>\n",
       "<tbody>\n",
       "\t<tr><td>Java      </td><td>Python    </td></tr>\n",
       "\t<tr><td>C++       </td><td>C++       </td></tr>\n",
       "\t<tr><td>C++       </td><td>Python    </td></tr>\n",
       "\t<tr><td>Python    </td><td>Python    </td></tr>\n",
       "\t<tr><td>Python    </td><td>Networking</td></tr>\n",
       "\t<tr><td>Python    </td><td>C         </td></tr>\n",
       "</tbody>\n",
       "</table>\n"
      ],
      "text/latex": [
       "\\begin{tabular}{r|ll}\n",
       " from & to\\\\\n",
       "\\hline\n",
       "\t Java       & Python    \\\\\n",
       "\t C++        & C++       \\\\\n",
       "\t C++        & Python    \\\\\n",
       "\t Python     & Python    \\\\\n",
       "\t Python     & Networking\\\\\n",
       "\t Python     & C         \\\\\n",
       "\\end{tabular}\n"
      ],
      "text/markdown": [
       "\n",
       "from | to | \n",
       "|---|---|---|---|---|---|\n",
       "| Java       | Python     | \n",
       "| C++        | C++        | \n",
       "| C++        | Python     | \n",
       "| Python     | Python     | \n",
       "| Python     | Networking | \n",
       "| Python     | C          | \n",
       "\n",
       "\n"
      ],
      "text/plain": [
       "  from   to        \n",
       "1 Java   Python    \n",
       "2 C++    C++       \n",
       "3 C++    Python    \n",
       "4 Python Python    \n",
       "5 Python Networking\n",
       "6 Python C         "
      ]
     },
     "metadata": {},
     "output_type": "display_data"
    }
   ],
   "source": [
    "# subjects = data.frame(name=c(\"Python\", \"Java\", \"C\", \"C++\",\n",
    "#                             \"Networking\"))\n",
    "relations = data.frame(from=c(\"Java\", \"C++\", \"C++\", \"Python\",\n",
    "                               \"Python\", \"Python\"),\n",
    "                        to=c(\"Python\", \"C++\", \"Python\", \"Python\", \"Networking\", \"C\"))\n",
    "g <- graph_from_data_frame(relations, directed=TRUE, vertices=actors)\n",
    "print(g, e=TRUE, v=TRUE)\n",
    "\n",
    "## The opposite operation\n",
    "as_data_frame(g, what=\"vertices\")\n",
    "as_data_frame(g, what=\"edges\")"
   ]
  },
  {
   "cell_type": "code",
   "execution_count": 36,
   "metadata": {},
   "outputs": [
    {
     "data": {
      "image/png": "[encoded data removed]",
      "text/plain": [
       "Plot with title \"\""
      ]
     },
     "metadata": {},
     "output_type": "display_data"
    }
   ],
   "source": [
    "plot(g)"
   ]
  },
  {
   "cell_type": "code",
   "execution_count": 2,
   "metadata": {},
   "outputs": [
    {
     "data": {
      "text/html": [
       "<table>\n",
       "<tbody>\n",
       "\t<tr><td>0</td><td>1</td><td>1</td></tr>\n",
       "\t<tr><td>0</td><td>0</td><td>0</td></tr>\n",
       "\t<tr><td>1</td><td>1</td><td>0</td></tr>\n",
       "</tbody>\n",
       "</table>\n"
      ],
      "text/latex": [
       "\\begin{tabular}{lll}\n",
       "\t 0 & 1 & 1\\\\\n",
       "\t 0 & 0 & 0\\\\\n",
       "\t 1 & 1 & 0\\\\\n",
       "\\end{tabular}\n"
      ],
      "text/markdown": [
       "\n",
       "| 0 | 1 | 1 | \n",
       "| 0 | 0 | 0 | \n",
       "| 1 | 1 | 0 | \n",
       "\n",
       "\n"
      ],
      "text/plain": [
       "     [,1] [,2] [,3]\n",
       "[1,] 0    1    1   \n",
       "[2,] 0    0    0   \n",
       "[3,] 1    1    0   "
      ]
     },
     "metadata": {},
     "output_type": "display_data"
    }
   ],
   "source": [
    "m = matrix(c(0,0,1,1,0,1,1,0,0) , nrow = 3)"
   ]
  },
  {
   "cell_type": "code",
   "execution_count": 5,
   "metadata": {},
   "outputs": [
    {
     "data": {
      "image/png": "[encoded data removed]",
      "text/plain": [
       "Plot with title \"\""
      ]
     },
     "metadata": {},
     "output_type": "display_data"
    }
   ],
   "source": [
    "plot(graph_from_adjacency_matrix(m))"
   ]
  },
  {
   "cell_type": "code",
   "execution_count": null,
   "metadata": {},
   "outputs": [],
   "source": [
    "relations = data.frame(from=c(\"A\", \"B\", \"C\", \"D\",),\n",
    "                        to=c(\"B\", \"C\", \"A\", \"C\", \"Networking\", \"C\"))\n"
   ]
  },
  {
   "cell_type": "code",
   "execution_count": 18,
   "metadata": {},
   "outputs": [
    {
     "name": "stderr",
     "output_type": "stream",
     "text": [
      "Warning message in if (!is.na(add.rownames)) {:\n",
      "\"the condition has length > 1 and only the first element will be used\"Warning message in graph_from_adjacency_matrix(M, add.rownames = c(\"a\", \"b\", \"c\", :\n",
      "\"No row names to add\""
     ]
    },
    {
     "data": {
      "image/png": "[encoded data removed]",
      "text/plain": [
       "Plot with title \"\""
      ]
     },
     "metadata": {},
     "output_type": "display_data"
    }
   ],
   "source": [
    "M = t(matrix(c(0,1,1,0,0,0,0,0,0,1,0,0,1,0,1,0) , nrow = 4))\n",
    "plot(graph_from_adjacency_matrix(M ,))"
   ]
  },
  {
   "cell_type": "code",
   "execution_count": null,
   "metadata": {},
   "outputs": [],
   "source": []
  }
 ],
 "metadata": {
  "kernelspec": {
   "display_name": "R",
   "language": "R",
   "name": "ir"
  },
  "language_info": {
   "codemirror_mode": "r",
   "file_extension": ".r",
   "mimetype": "text/x-r-source",
   "name": "R",
   "pygments_lexer": "r",
   "version": "3.5.1"
  }
 },
 "nbformat": 4,
 "nbformat_minor": 2
}
