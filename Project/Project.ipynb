{
 "cells": [
  {
   "cell_type": "code",
   "execution_count": 12,
   "metadata": {},
   "outputs": [],
   "source": [
    "data = read.csv('./data/India Economic/PC_Export_2016_2017.csv')"
   ]
  },
  {
   "cell_type": "code",
   "execution_count": 34,
   "metadata": {},
   "outputs": [
    {
     "data": {
      "text/html": [
       "<ol class=list-inline>\n",
       "\t<li>'G5'</li>\n",
       "\t<li>'Pearl, Precs, Semiprecs Stones'</li>\n",
       "\t<li>'Na'</li>\n",
       "\t<li>'10179'</li>\n",
       "\t<li>'Hong Kong'</li>\n",
       "\t<li>NA</li>\n",
       "\t<li>'9599.857922'</li>\n",
       "</ol>\n"
      ],
      "text/latex": [
       "\\begin{enumerate*}\n",
       "\\item 'G5'\n",
       "\\item 'Pearl, Precs, Semiprecs Stones'\n",
       "\\item 'Na'\n",
       "\\item '10179'\n",
       "\\item 'Hong Kong'\n",
       "\\item NA\n",
       "\\item '9599.857922'\n",
       "\\end{enumerate*}\n"
      ],
      "text/markdown": [
       "1. 'G5'\n",
       "2. 'Pearl, Precs, Semiprecs Stones'\n",
       "3. 'Na'\n",
       "4. '10179'\n",
       "5. 'Hong Kong'\n",
       "6. NA\n",
       "7. '9599.857922'\n",
       "\n",
       "\n"
      ],
      "text/plain": [
       "[1] \"G5\"                             \"Pearl, Precs, Semiprecs Stones\"\n",
       "[3] \"Na\"                             \"10179\"                         \n",
       "[5] \"Hong Kong\"                      NA                              \n",
       "[7] \"9599.857922\"                   "
      ]
     },
     "metadata": {},
     "output_type": "display_data"
    }
   ],
   "source": [
    "data[data['value'] == max(na.omit(data$value))]"
   ]
  },
  {
   "cell_type": "code",
   "execution_count": 28,
   "metadata": {},
   "outputs": [
    {
     "data": {
      "text/html": [
       "9599.857922"
      ],
      "text/latex": [
       "9599.857922"
      ],
      "text/markdown": [
       "9599.857922"
      ],
      "text/plain": [
       "[1] 9599.858"
      ]
     },
     "metadata": {},
     "output_type": "display_data"
    }
   ],
   "source": []
  },
  {
   "cell_type": "code",
   "execution_count": null,
   "metadata": {},
   "outputs": [],
   "source": []
  }
 ],
 "metadata": {
  "kernelspec": {
   "display_name": "R",
   "language": "R",
   "name": "ir"
  },
  "language_info": {
   "codemirror_mode": "r",
   "file_extension": ".r",
   "mimetype": "text/x-r-source",
   "name": "R",
   "pygments_lexer": "r",
   "version": "3.5.1"
  }
 },
 "nbformat": 4,
 "nbformat_minor": 2
}
